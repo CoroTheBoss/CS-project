{
 "cells": [
  {
   "cell_type": "markdown",
   "id": "384ad61e",
   "metadata": {},
   "source": [
    "# <center>Project for Foundations of Computer Science</center>\n",
    "### <center>University of Milano-Bicocca</center>\n",
    "<center>Matteo Corona - Costanza Pagnin</center>"
   ]
  },
  {
   "cell_type": "markdown",
   "id": "df1426c8",
   "metadata": {},
   "source": [
    "### 0. Preliminary steps\n",
    "### Importing libraries"
   ]
  },
  {
   "cell_type": "code",
   "execution_count": 1,
   "id": "57aaec60",
   "metadata": {},
   "outputs": [],
   "source": [
    "import pandas as pd\n",
    "import numpy as np\n",
    "import re"
   ]
  },
  {
   "cell_type": "markdown",
   "id": "0aa0e5d7",
   "metadata": {},
   "source": [
    "### Reading *.csv* files from GitHub Repository"
   ]
  },
  {
   "cell_type": "code",
   "execution_count": 2,
   "id": "a2fdd8dc",
   "metadata": {
    "id": "a2fdd8dc"
   },
   "outputs": [],
   "source": [
    "travel=pd.read_csv('https://raw.githubusercontent.com/CoroTheBoss/CS-project/main/dogTravel.csv', index_col=0)\n",
    "dog=pd.read_csv('https://raw.githubusercontent.com/CoroTheBoss/CS-project/main/dogs.csv')\n",
    "nst=pd.read_csv('https://raw.githubusercontent.com/CoroTheBoss/CS-project/main/NST-EST2021-POP.csv')"
   ]
  },
  {
   "cell_type": "markdown",
   "id": "b7a0ffa6-ad32-446f-8780-eb3138658e14",
   "metadata": {
    "id": "b7a0ffa6-ad32-446f-8780-eb3138658e14"
   },
   "source": [
    "### 1. Extract all dogs with status that is *not adoptable*"
   ]
  },
  {
   "cell_type": "markdown",
   "id": "56d80ec8",
   "metadata": {},
   "source": [
    "Some values were off by one column so they had to be properly shifted"
   ]
  },
  {
   "cell_type": "code",
   "execution_count": 3,
   "id": "eb7182d7",
   "metadata": {},
   "outputs": [],
   "source": [
    "# Shifting values\n",
    "dog.loc[dog['status']!='adoptable','status':'accessed']=dog.loc[dog['status']!='adoptable','status':'accessed'].shift(periods=1, axis=\"columns\")"
   ]
  },
  {
   "cell_type": "code",
   "execution_count": 4,
   "id": "e716dcd0",
   "metadata": {},
   "outputs": [
    {
     "data": {
      "text/plain": [
       "array(['adoptable', nan], dtype=object)"
      ]
     },
     "execution_count": 4,
     "metadata": {},
     "output_type": "execute_result"
    }
   ],
   "source": [
    "# Cheching all possible values in status\n",
    "dog[\"status\"].unique()"
   ]
  },
  {
   "cell_type": "markdown",
   "id": "38b30cf3",
   "metadata": {},
   "source": [
    "Since there are two different values, the NaN values refers to the *not adoptable* dogs"
   ]
  },
  {
   "cell_type": "code",
   "execution_count": 5,
   "id": "fc3acd6f",
   "metadata": {},
   "outputs": [
    {
     "data": {
      "text/html": [
       "<div>\n",
       "<style scoped>\n",
       "    .dataframe tbody tr th:only-of-type {\n",
       "        vertical-align: middle;\n",
       "    }\n",
       "\n",
       "    .dataframe tbody tr th {\n",
       "        vertical-align: top;\n",
       "    }\n",
       "\n",
       "    .dataframe thead th {\n",
       "        text-align: right;\n",
       "    }\n",
       "</style>\n",
       "<table border=\"1\" class=\"dataframe\">\n",
       "  <thead>\n",
       "    <tr style=\"text-align: right;\">\n",
       "      <th></th>\n",
       "      <th>id</th>\n",
       "      <th>status</th>\n",
       "    </tr>\n",
       "  </thead>\n",
       "  <tbody>\n",
       "    <tr>\n",
       "      <th>644</th>\n",
       "      <td>41330726</td>\n",
       "      <td>not adoptable</td>\n",
       "    </tr>\n",
       "    <tr>\n",
       "      <th>5549</th>\n",
       "      <td>38169117</td>\n",
       "      <td>not adoptable</td>\n",
       "    </tr>\n",
       "    <tr>\n",
       "      <th>10888</th>\n",
       "      <td>45833989</td>\n",
       "      <td>not adoptable</td>\n",
       "    </tr>\n",
       "    <tr>\n",
       "      <th>11983</th>\n",
       "      <td>45515547</td>\n",
       "      <td>not adoptable</td>\n",
       "    </tr>\n",
       "    <tr>\n",
       "      <th>12495</th>\n",
       "      <td>45294115</td>\n",
       "      <td>not adoptable</td>\n",
       "    </tr>\n",
       "    <tr>\n",
       "      <th>12600</th>\n",
       "      <td>45229004</td>\n",
       "      <td>not adoptable</td>\n",
       "    </tr>\n",
       "    <tr>\n",
       "      <th>12613</th>\n",
       "      <td>45227052</td>\n",
       "      <td>not adoptable</td>\n",
       "    </tr>\n",
       "    <tr>\n",
       "      <th>17619</th>\n",
       "      <td>45569380</td>\n",
       "      <td>not adoptable</td>\n",
       "    </tr>\n",
       "    <tr>\n",
       "      <th>18611</th>\n",
       "      <td>44694387</td>\n",
       "      <td>not adoptable</td>\n",
       "    </tr>\n",
       "    <tr>\n",
       "      <th>19747</th>\n",
       "      <td>36978896</td>\n",
       "      <td>not adoptable</td>\n",
       "    </tr>\n",
       "    <tr>\n",
       "      <th>19845</th>\n",
       "      <td>33218331</td>\n",
       "      <td>not adoptable</td>\n",
       "    </tr>\n",
       "    <tr>\n",
       "      <th>22161</th>\n",
       "      <td>42092005</td>\n",
       "      <td>not adoptable</td>\n",
       "    </tr>\n",
       "    <tr>\n",
       "      <th>22229</th>\n",
       "      <td>39594038</td>\n",
       "      <td>not adoptable</td>\n",
       "    </tr>\n",
       "    <tr>\n",
       "      <th>29283</th>\n",
       "      <td>45895274</td>\n",
       "      <td>not adoptable</td>\n",
       "    </tr>\n",
       "    <tr>\n",
       "      <th>30471</th>\n",
       "      <td>45964719</td>\n",
       "      <td>not adoptable</td>\n",
       "    </tr>\n",
       "    <tr>\n",
       "      <th>31581</th>\n",
       "      <td>44538917</td>\n",
       "      <td>not adoptable</td>\n",
       "    </tr>\n",
       "    <tr>\n",
       "      <th>31888</th>\n",
       "      <td>41430442</td>\n",
       "      <td>not adoptable</td>\n",
       "    </tr>\n",
       "    <tr>\n",
       "      <th>33000</th>\n",
       "      <td>45907639</td>\n",
       "      <td>not adoptable</td>\n",
       "    </tr>\n",
       "    <tr>\n",
       "      <th>33527</th>\n",
       "      <td>45362806</td>\n",
       "      <td>not adoptable</td>\n",
       "    </tr>\n",
       "    <tr>\n",
       "      <th>34188</th>\n",
       "      <td>32590894</td>\n",
       "      <td>not adoptable</td>\n",
       "    </tr>\n",
       "    <tr>\n",
       "      <th>35065</th>\n",
       "      <td>31426754</td>\n",
       "      <td>not adoptable</td>\n",
       "    </tr>\n",
       "    <tr>\n",
       "      <th>44830</th>\n",
       "      <td>46037827</td>\n",
       "      <td>not adoptable</td>\n",
       "    </tr>\n",
       "    <tr>\n",
       "      <th>53168</th>\n",
       "      <td>44044071</td>\n",
       "      <td>not adoptable</td>\n",
       "    </tr>\n",
       "    <tr>\n",
       "      <th>53539</th>\n",
       "      <td>27521132</td>\n",
       "      <td>not adoptable</td>\n",
       "    </tr>\n",
       "    <tr>\n",
       "      <th>55434</th>\n",
       "      <td>38473806</td>\n",
       "      <td>not adoptable</td>\n",
       "    </tr>\n",
       "    <tr>\n",
       "      <th>55467</th>\n",
       "      <td>34101432</td>\n",
       "      <td>not adoptable</td>\n",
       "    </tr>\n",
       "    <tr>\n",
       "      <th>55915</th>\n",
       "      <td>45958435</td>\n",
       "      <td>not adoptable</td>\n",
       "    </tr>\n",
       "    <tr>\n",
       "      <th>55975</th>\n",
       "      <td>45927580</td>\n",
       "      <td>not adoptable</td>\n",
       "    </tr>\n",
       "    <tr>\n",
       "      <th>56013</th>\n",
       "      <td>45916348</td>\n",
       "      <td>not adoptable</td>\n",
       "    </tr>\n",
       "    <tr>\n",
       "      <th>56248</th>\n",
       "      <td>45733027</td>\n",
       "      <td>not adoptable</td>\n",
       "    </tr>\n",
       "    <tr>\n",
       "      <th>56464</th>\n",
       "      <td>45413997</td>\n",
       "      <td>not adoptable</td>\n",
       "    </tr>\n",
       "    <tr>\n",
       "      <th>56473</th>\n",
       "      <td>45406516</td>\n",
       "      <td>not adoptable</td>\n",
       "    </tr>\n",
       "    <tr>\n",
       "      <th>56541</th>\n",
       "      <td>45264615</td>\n",
       "      <td>not adoptable</td>\n",
       "    </tr>\n",
       "  </tbody>\n",
       "</table>\n",
       "</div>"
      ],
      "text/plain": [
       "             id         status\n",
       "644    41330726  not adoptable\n",
       "5549   38169117  not adoptable\n",
       "10888  45833989  not adoptable\n",
       "11983  45515547  not adoptable\n",
       "12495  45294115  not adoptable\n",
       "12600  45229004  not adoptable\n",
       "12613  45227052  not adoptable\n",
       "17619  45569380  not adoptable\n",
       "18611  44694387  not adoptable\n",
       "19747  36978896  not adoptable\n",
       "19845  33218331  not adoptable\n",
       "22161  42092005  not adoptable\n",
       "22229  39594038  not adoptable\n",
       "29283  45895274  not adoptable\n",
       "30471  45964719  not adoptable\n",
       "31581  44538917  not adoptable\n",
       "31888  41430442  not adoptable\n",
       "33000  45907639  not adoptable\n",
       "33527  45362806  not adoptable\n",
       "34188  32590894  not adoptable\n",
       "35065  31426754  not adoptable\n",
       "44830  46037827  not adoptable\n",
       "53168  44044071  not adoptable\n",
       "53539  27521132  not adoptable\n",
       "55434  38473806  not adoptable\n",
       "55467  34101432  not adoptable\n",
       "55915  45958435  not adoptable\n",
       "55975  45927580  not adoptable\n",
       "56013  45916348  not adoptable\n",
       "56248  45733027  not adoptable\n",
       "56464  45413997  not adoptable\n",
       "56473  45406516  not adoptable\n",
       "56541  45264615  not adoptable"
      ]
     },
     "execution_count": 5,
     "metadata": {},
     "output_type": "execute_result"
    }
   ],
   "source": [
    "# Replacing NaN values\n",
    "dog.loc[dog['status']!='adoptable', [ 'status']] = 'not adoptable'\n",
    "# Printing the first not adoptable dogs to visualize the data\n",
    "dog.loc[dog['status']!='adoptable', ['id', 'status']]"
   ]
  },
  {
   "cell_type": "code",
   "execution_count": 6,
   "id": "90d8b296",
   "metadata": {},
   "outputs": [
    {
     "name": "stdout",
     "output_type": "stream",
     "text": [
      "There are 33 dogs with status that is not adoptable\n"
     ]
    }
   ],
   "source": [
    "print(\"There are\", len(dog.loc[dog['status']!='adoptable', ['id']]) ,\"dogs with status that is not adoptable\" )"
   ]
  },
  {
   "cell_type": "markdown",
   "id": "f3d46848-9e88-4eae-96af-43263c16371e",
   "metadata": {
    "id": "f3d46848-9e88-4eae-96af-43263c16371e"
   },
   "source": [
    "### 2. For each (primary) breed, determine the number of dogs"
   ]
  },
  {
   "cell_type": "code",
   "execution_count": 7,
   "id": "3d41fc11",
   "metadata": {
    "id": "3d41fc11",
    "outputId": "94ddaa6f-f198-416f-c2ab-84dd5c92462b"
   },
   "outputs": [
    {
     "data": {
      "text/html": [
       "<div>\n",
       "<style scoped>\n",
       "    .dataframe tbody tr th:only-of-type {\n",
       "        vertical-align: middle;\n",
       "    }\n",
       "\n",
       "    .dataframe tbody tr th {\n",
       "        vertical-align: top;\n",
       "    }\n",
       "\n",
       "    .dataframe thead th {\n",
       "        text-align: right;\n",
       "    }\n",
       "</style>\n",
       "<table border=\"1\" class=\"dataframe\">\n",
       "  <thead>\n",
       "    <tr style=\"text-align: right;\">\n",
       "      <th></th>\n",
       "      <th>id</th>\n",
       "      <th>org_id</th>\n",
       "      <th>url</th>\n",
       "      <th>type.x</th>\n",
       "      <th>species</th>\n",
       "      <th>breed_primary</th>\n",
       "      <th>breed_secondary</th>\n",
       "      <th>breed_mixed</th>\n",
       "      <th>breed_unknown</th>\n",
       "      <th>color_primary</th>\n",
       "      <th>...</th>\n",
       "      <th>contact_city</th>\n",
       "      <th>contact_state</th>\n",
       "      <th>contact_zip</th>\n",
       "      <th>contact_country</th>\n",
       "      <th>stateQ</th>\n",
       "      <th>accessed</th>\n",
       "      <th>type.y</th>\n",
       "      <th>description</th>\n",
       "      <th>stay_duration</th>\n",
       "      <th>stay_cost</th>\n",
       "    </tr>\n",
       "  </thead>\n",
       "  <tbody>\n",
       "  </tbody>\n",
       "</table>\n",
       "<p>0 rows × 37 columns</p>\n",
       "</div>"
      ],
      "text/plain": [
       "Empty DataFrame\n",
       "Columns: [id, org_id, url, type.x, species, breed_primary, breed_secondary, breed_mixed, breed_unknown, color_primary, color_secondary, color_tertiary, age, sex, size, coat, fixed, house_trained, declawed, special_needs, shots_current, env_children, env_dogs, env_cats, name, status, posted, contact_city, contact_state, contact_zip, contact_country, stateQ, accessed, type.y, description, stay_duration, stay_cost]\n",
       "Index: []\n",
       "\n",
       "[0 rows x 37 columns]"
      ]
     },
     "execution_count": 7,
     "metadata": {},
     "output_type": "execute_result"
    }
   ],
   "source": [
    "# Checking if all dogs have a primary key\n",
    "dog[dog['breed_primary'].isna()]"
   ]
  },
  {
   "cell_type": "code",
   "execution_count": 8,
   "id": "cb1e9d6a",
   "metadata": {
    "id": "cb1e9d6a",
    "outputId": "e1ed97ed-979f-42a8-d030-af5d252686d8"
   },
   "outputs": [
    {
     "data": {
      "text/html": [
       "<div>\n",
       "<style scoped>\n",
       "    .dataframe tbody tr th:only-of-type {\n",
       "        vertical-align: middle;\n",
       "    }\n",
       "\n",
       "    .dataframe tbody tr th {\n",
       "        vertical-align: top;\n",
       "    }\n",
       "\n",
       "    .dataframe thead th {\n",
       "        text-align: right;\n",
       "    }\n",
       "</style>\n",
       "<table border=\"1\" class=\"dataframe\">\n",
       "  <thead>\n",
       "    <tr style=\"text-align: right;\">\n",
       "      <th></th>\n",
       "      <th>id</th>\n",
       "      <th>org_id</th>\n",
       "      <th>url</th>\n",
       "      <th>type.x</th>\n",
       "      <th>species</th>\n",
       "      <th>breed_primary</th>\n",
       "      <th>breed_secondary</th>\n",
       "      <th>breed_mixed</th>\n",
       "      <th>breed_unknown</th>\n",
       "      <th>color_primary</th>\n",
       "      <th>...</th>\n",
       "      <th>contact_city</th>\n",
       "      <th>contact_state</th>\n",
       "      <th>contact_zip</th>\n",
       "      <th>contact_country</th>\n",
       "      <th>stateQ</th>\n",
       "      <th>accessed</th>\n",
       "      <th>type.y</th>\n",
       "      <th>description</th>\n",
       "      <th>stay_duration</th>\n",
       "      <th>stay_cost</th>\n",
       "    </tr>\n",
       "  </thead>\n",
       "  <tbody>\n",
       "  </tbody>\n",
       "</table>\n",
       "<p>0 rows × 37 columns</p>\n",
       "</div>"
      ],
      "text/plain": [
       "Empty DataFrame\n",
       "Columns: [id, org_id, url, type.x, species, breed_primary, breed_secondary, breed_mixed, breed_unknown, color_primary, color_secondary, color_tertiary, age, sex, size, coat, fixed, house_trained, declawed, special_needs, shots_current, env_children, env_dogs, env_cats, name, status, posted, contact_city, contact_state, contact_zip, contact_country, stateQ, accessed, type.y, description, stay_duration, stay_cost]\n",
       "Index: []\n",
       "\n",
       "[0 rows x 37 columns]"
      ]
     },
     "execution_count": 8,
     "metadata": {},
     "output_type": "execute_result"
    }
   ],
   "source": [
    "# Checking if all dogs have an id\n",
    "dog[dog['id'].isna()]"
   ]
  },
  {
   "cell_type": "code",
   "execution_count": 12,
   "id": "09f65870",
   "metadata": {
    "id": "09f65870",
    "outputId": "0e919ea7-c05a-4379-e9a7-ff8a32811d78"
   },
   "outputs": [
    {
     "data": {
      "text/plain": [
       "breed_primary\n",
       "Affenpinscher                         17\n",
       "Afghan Hound                           4\n",
       "Airedale Terrier                      19\n",
       "Akbash                                 3\n",
       "Akita                                181\n",
       "                                    ... \n",
       "Wirehaired Pointing Griffon            1\n",
       "Wirehaired Terrier                    60\n",
       "Xoloitzcuintli / Mexican Hairless     11\n",
       "Yellow Labrador Retriever            158\n",
       "Yorkshire Terrier                    360\n",
       "Name: id, Length: 216, dtype: int64"
      ]
     },
     "execution_count": 12,
     "metadata": {},
     "output_type": "execute_result"
    }
   ],
   "source": [
    "# Grouping dogs by their primary key and counting them\n",
    "dog.groupby('breed_primary')['id'].count()"
   ]
  },
  {
   "cell_type": "markdown",
   "id": "bd288f44-e2f2-4420-b662-da98a666a8a9",
   "metadata": {
    "id": "bd288f44-e2f2-4420-b662-da98a666a8a9"
   },
   "source": [
    "### 3. For each (primary) breed, determine the ratio between the number of dogs of `Mixed Breed` and those not of Mixed Breed. Hint: look at the `secondary_breed`."
   ]
  },
  {
   "cell_type": "code",
   "execution_count": null,
   "id": "498b00a5",
   "metadata": {
    "id": "498b00a5"
   },
   "outputs": [],
   "source": [
    "dog.insert(loc = 6,\n",
    "          column = 'secondary_clean',\n",
    "          value = 1)"
   ]
  },
  {
   "cell_type": "code",
   "execution_count": null,
   "id": "e393b32a",
   "metadata": {
    "id": "e393b32a"
   },
   "outputs": [],
   "source": [
    "dog.loc[dog['breed_secondary']=='Mixed Breed', 'secondary_clean']='m'"
   ]
  },
  {
   "cell_type": "code",
   "execution_count": null,
   "id": "2910c236",
   "metadata": {
    "id": "2910c236"
   },
   "outputs": [],
   "source": [
    "dog.loc[(dog.breed_secondary!='Mixed Breed'),'secondary_clean']='o'"
   ]
  },
  {
   "cell_type": "code",
   "execution_count": null,
   "id": "e69cfdd3",
   "metadata": {
    "id": "e69cfdd3",
    "outputId": "3ba8127f-d715-4364-f401-1aab1f930ba1",
    "scrolled": false
   },
   "outputs": [
    {
     "data": {
      "text/html": [
       "<div>\n",
       "<style scoped>\n",
       "    .dataframe tbody tr th:only-of-type {\n",
       "        vertical-align: middle;\n",
       "    }\n",
       "\n",
       "    .dataframe tbody tr th {\n",
       "        vertical-align: top;\n",
       "    }\n",
       "\n",
       "    .dataframe thead th {\n",
       "        text-align: right;\n",
       "    }\n",
       "</style>\n",
       "<table border=\"1\" class=\"dataframe\">\n",
       "  <thead>\n",
       "    <tr style=\"text-align: right;\">\n",
       "      <th></th>\n",
       "      <th>id</th>\n",
       "      <th>org_id</th>\n",
       "      <th>url</th>\n",
       "      <th>type.x</th>\n",
       "      <th>species</th>\n",
       "      <th>breed_primary</th>\n",
       "      <th>secondary_clean</th>\n",
       "      <th>breed_secondary</th>\n",
       "      <th>breed_mixed</th>\n",
       "      <th>breed_unknown</th>\n",
       "      <th>...</th>\n",
       "      <th>contact_city</th>\n",
       "      <th>contact_state</th>\n",
       "      <th>contact_zip</th>\n",
       "      <th>contact_country</th>\n",
       "      <th>stateQ</th>\n",
       "      <th>accessed</th>\n",
       "      <th>type.y</th>\n",
       "      <th>description</th>\n",
       "      <th>stay_duration</th>\n",
       "      <th>stay_cost</th>\n",
       "    </tr>\n",
       "  </thead>\n",
       "  <tbody>\n",
       "    <tr>\n",
       "      <th>0</th>\n",
       "      <td>46042150</td>\n",
       "      <td>NV163</td>\n",
       "      <td>https://www.petfinder.com/dog/harley-46042150/...</td>\n",
       "      <td>Dog</td>\n",
       "      <td>Dog</td>\n",
       "      <td>American Staffordshire Terrier</td>\n",
       "      <td>m</td>\n",
       "      <td>Mixed Breed</td>\n",
       "      <td>True</td>\n",
       "      <td>False</td>\n",
       "      <td>...</td>\n",
       "      <td>Las Vegas</td>\n",
       "      <td>NV</td>\n",
       "      <td>89147</td>\n",
       "      <td>US</td>\n",
       "      <td>89009</td>\n",
       "      <td>2019-09-20</td>\n",
       "      <td>Dog</td>\n",
       "      <td>Harley is not sure how he wound up at shelter ...</td>\n",
       "      <td>70</td>\n",
       "      <td>124.81</td>\n",
       "    </tr>\n",
       "    <tr>\n",
       "      <th>1</th>\n",
       "      <td>46042002</td>\n",
       "      <td>NV163</td>\n",
       "      <td>https://www.petfinder.com/dog/biggie-46042002/...</td>\n",
       "      <td>Dog</td>\n",
       "      <td>Dog</td>\n",
       "      <td>Pit Bull Terrier</td>\n",
       "      <td>m</td>\n",
       "      <td>Mixed Breed</td>\n",
       "      <td>True</td>\n",
       "      <td>False</td>\n",
       "      <td>...</td>\n",
       "      <td>Las Vegas</td>\n",
       "      <td>NV</td>\n",
       "      <td>89147</td>\n",
       "      <td>US</td>\n",
       "      <td>89009</td>\n",
       "      <td>2019-09-20</td>\n",
       "      <td>Dog</td>\n",
       "      <td>6 year old Biggie has lost his home and really...</td>\n",
       "      <td>49</td>\n",
       "      <td>122.07</td>\n",
       "    </tr>\n",
       "    <tr>\n",
       "      <th>2</th>\n",
       "      <td>46040898</td>\n",
       "      <td>NV99</td>\n",
       "      <td>https://www.petfinder.com/dog/ziggy-46040898/n...</td>\n",
       "      <td>Dog</td>\n",
       "      <td>Dog</td>\n",
       "      <td>Shepherd</td>\n",
       "      <td>o</td>\n",
       "      <td>NaN</td>\n",
       "      <td>False</td>\n",
       "      <td>False</td>\n",
       "      <td>...</td>\n",
       "      <td>Mesquite</td>\n",
       "      <td>NV</td>\n",
       "      <td>89027</td>\n",
       "      <td>US</td>\n",
       "      <td>89009</td>\n",
       "      <td>2019-09-20</td>\n",
       "      <td>Dog</td>\n",
       "      <td>Approx 2 years old.\\n Did I catch your eye? I ...</td>\n",
       "      <td>87</td>\n",
       "      <td>281.51</td>\n",
       "    </tr>\n",
       "    <tr>\n",
       "      <th>3</th>\n",
       "      <td>46039877</td>\n",
       "      <td>NV202</td>\n",
       "      <td>https://www.petfinder.com/dog/gypsy-46039877/n...</td>\n",
       "      <td>Dog</td>\n",
       "      <td>Dog</td>\n",
       "      <td>German Shepherd Dog</td>\n",
       "      <td>o</td>\n",
       "      <td>NaN</td>\n",
       "      <td>False</td>\n",
       "      <td>False</td>\n",
       "      <td>...</td>\n",
       "      <td>Pahrump</td>\n",
       "      <td>NV</td>\n",
       "      <td>89048</td>\n",
       "      <td>US</td>\n",
       "      <td>89009</td>\n",
       "      <td>2019-09-20</td>\n",
       "      <td>Dog</td>\n",
       "      <td>NaN</td>\n",
       "      <td>62</td>\n",
       "      <td>145.83</td>\n",
       "    </tr>\n",
       "    <tr>\n",
       "      <th>4</th>\n",
       "      <td>46039306</td>\n",
       "      <td>NV184</td>\n",
       "      <td>https://www.petfinder.com/dog/theo-46039306/nv...</td>\n",
       "      <td>Dog</td>\n",
       "      <td>Dog</td>\n",
       "      <td>Dachshund</td>\n",
       "      <td>o</td>\n",
       "      <td>NaN</td>\n",
       "      <td>False</td>\n",
       "      <td>False</td>\n",
       "      <td>...</td>\n",
       "      <td>Henderson</td>\n",
       "      <td>NV</td>\n",
       "      <td>89052</td>\n",
       "      <td>US</td>\n",
       "      <td>89009</td>\n",
       "      <td>2019-09-20</td>\n",
       "      <td>Dog</td>\n",
       "      <td>Theo is a friendly dachshund mix who gets alon...</td>\n",
       "      <td>93</td>\n",
       "      <td>241.09</td>\n",
       "    </tr>\n",
       "    <tr>\n",
       "      <th>...</th>\n",
       "      <td>...</td>\n",
       "      <td>...</td>\n",
       "      <td>...</td>\n",
       "      <td>...</td>\n",
       "      <td>...</td>\n",
       "      <td>...</td>\n",
       "      <td>...</td>\n",
       "      <td>...</td>\n",
       "      <td>...</td>\n",
       "      <td>...</td>\n",
       "      <td>...</td>\n",
       "      <td>...</td>\n",
       "      <td>...</td>\n",
       "      <td>...</td>\n",
       "      <td>...</td>\n",
       "      <td>...</td>\n",
       "      <td>...</td>\n",
       "      <td>...</td>\n",
       "      <td>...</td>\n",
       "      <td>...</td>\n",
       "      <td>...</td>\n",
       "    </tr>\n",
       "    <tr>\n",
       "      <th>58175</th>\n",
       "      <td>44605893</td>\n",
       "      <td>WY20</td>\n",
       "      <td>https://www.petfinder.com/dog/tren-44605893/wy...</td>\n",
       "      <td>Dog</td>\n",
       "      <td>Dog</td>\n",
       "      <td>Border Collie</td>\n",
       "      <td>o</td>\n",
       "      <td>NaN</td>\n",
       "      <td>False</td>\n",
       "      <td>False</td>\n",
       "      <td>...</td>\n",
       "      <td>Lander</td>\n",
       "      <td>WY</td>\n",
       "      <td>82520</td>\n",
       "      <td>US</td>\n",
       "      <td>WY</td>\n",
       "      <td>2019-09-20</td>\n",
       "      <td>Dog</td>\n",
       "      <td>Due to the small size of our volunteer base, w...</td>\n",
       "      <td>100</td>\n",
       "      <td>324.34</td>\n",
       "    </tr>\n",
       "    <tr>\n",
       "      <th>58176</th>\n",
       "      <td>44457061</td>\n",
       "      <td>WY24</td>\n",
       "      <td>https://www.petfinder.com/dog/harley-44457061/...</td>\n",
       "      <td>Dog</td>\n",
       "      <td>Dog</td>\n",
       "      <td>Australian Shepherd</td>\n",
       "      <td>o</td>\n",
       "      <td>Australian Cattle Dog / Blue Heeler</td>\n",
       "      <td>True</td>\n",
       "      <td>False</td>\n",
       "      <td>...</td>\n",
       "      <td>Riverton</td>\n",
       "      <td>WY</td>\n",
       "      <td>82501</td>\n",
       "      <td>US</td>\n",
       "      <td>WY</td>\n",
       "      <td>2019-09-20</td>\n",
       "      <td>Dog</td>\n",
       "      <td>NaN</td>\n",
       "      <td>65</td>\n",
       "      <td>245.90</td>\n",
       "    </tr>\n",
       "    <tr>\n",
       "      <th>58177</th>\n",
       "      <td>42865848</td>\n",
       "      <td>WY20</td>\n",
       "      <td>https://www.petfinder.com/dog/echo-42865848/wy...</td>\n",
       "      <td>Dog</td>\n",
       "      <td>Dog</td>\n",
       "      <td>Border Collie</td>\n",
       "      <td>o</td>\n",
       "      <td>NaN</td>\n",
       "      <td>False</td>\n",
       "      <td>False</td>\n",
       "      <td>...</td>\n",
       "      <td>Glenrock</td>\n",
       "      <td>WY</td>\n",
       "      <td>82637</td>\n",
       "      <td>US</td>\n",
       "      <td>WY</td>\n",
       "      <td>2019-09-20</td>\n",
       "      <td>Dog</td>\n",
       "      <td>Due to the small size of our volunteer base, w...</td>\n",
       "      <td>100</td>\n",
       "      <td>184.06</td>\n",
       "    </tr>\n",
       "    <tr>\n",
       "      <th>58178</th>\n",
       "      <td>42734734</td>\n",
       "      <td>WY24</td>\n",
       "      <td>https://www.petfinder.com/dog/simon-42734734/w...</td>\n",
       "      <td>Dog</td>\n",
       "      <td>Dog</td>\n",
       "      <td>Boxer</td>\n",
       "      <td>m</td>\n",
       "      <td>Mixed Breed</td>\n",
       "      <td>True</td>\n",
       "      <td>False</td>\n",
       "      <td>...</td>\n",
       "      <td>Riverton</td>\n",
       "      <td>WY</td>\n",
       "      <td>82501</td>\n",
       "      <td>US</td>\n",
       "      <td>WY</td>\n",
       "      <td>2019-09-20</td>\n",
       "      <td>Dog</td>\n",
       "      <td>NaN</td>\n",
       "      <td>58</td>\n",
       "      <td>61.05</td>\n",
       "    </tr>\n",
       "    <tr>\n",
       "      <th>58179</th>\n",
       "      <td>42663515</td>\n",
       "      <td>WY24</td>\n",
       "      <td>https://www.petfinder.com/dog/romeo-42663515/w...</td>\n",
       "      <td>Dog</td>\n",
       "      <td>Dog</td>\n",
       "      <td>Labrador Retriever</td>\n",
       "      <td>o</td>\n",
       "      <td>Pit Bull Terrier</td>\n",
       "      <td>True</td>\n",
       "      <td>False</td>\n",
       "      <td>...</td>\n",
       "      <td>Riverton</td>\n",
       "      <td>WY</td>\n",
       "      <td>82501</td>\n",
       "      <td>US</td>\n",
       "      <td>WY</td>\n",
       "      <td>2019-09-20</td>\n",
       "      <td>Dog</td>\n",
       "      <td>NaN</td>\n",
       "      <td>100</td>\n",
       "      <td>255.38</td>\n",
       "    </tr>\n",
       "  </tbody>\n",
       "</table>\n",
       "<p>58180 rows × 38 columns</p>\n",
       "</div>"
      ],
      "text/plain": [
       "             id org_id                                                url  \\\n",
       "0      46042150  NV163  https://www.petfinder.com/dog/harley-46042150/...   \n",
       "1      46042002  NV163  https://www.petfinder.com/dog/biggie-46042002/...   \n",
       "2      46040898   NV99  https://www.petfinder.com/dog/ziggy-46040898/n...   \n",
       "3      46039877  NV202  https://www.petfinder.com/dog/gypsy-46039877/n...   \n",
       "4      46039306  NV184  https://www.petfinder.com/dog/theo-46039306/nv...   \n",
       "...         ...    ...                                                ...   \n",
       "58175  44605893   WY20  https://www.petfinder.com/dog/tren-44605893/wy...   \n",
       "58176  44457061   WY24  https://www.petfinder.com/dog/harley-44457061/...   \n",
       "58177  42865848   WY20  https://www.petfinder.com/dog/echo-42865848/wy...   \n",
       "58178  42734734   WY24  https://www.petfinder.com/dog/simon-42734734/w...   \n",
       "58179  42663515   WY24  https://www.petfinder.com/dog/romeo-42663515/w...   \n",
       "\n",
       "      type.x species                   breed_primary secondary_clean  \\\n",
       "0        Dog     Dog  American Staffordshire Terrier               m   \n",
       "1        Dog     Dog                Pit Bull Terrier               m   \n",
       "2        Dog     Dog                        Shepherd               o   \n",
       "3        Dog     Dog             German Shepherd Dog               o   \n",
       "4        Dog     Dog                       Dachshund               o   \n",
       "...      ...     ...                             ...             ...   \n",
       "58175    Dog     Dog                   Border Collie               o   \n",
       "58176    Dog     Dog             Australian Shepherd               o   \n",
       "58177    Dog     Dog                   Border Collie               o   \n",
       "58178    Dog     Dog                           Boxer               m   \n",
       "58179    Dog     Dog              Labrador Retriever               o   \n",
       "\n",
       "                           breed_secondary  breed_mixed  breed_unknown  ...  \\\n",
       "0                              Mixed Breed         True          False  ...   \n",
       "1                              Mixed Breed         True          False  ...   \n",
       "2                                      NaN        False          False  ...   \n",
       "3                                      NaN        False          False  ...   \n",
       "4                                      NaN        False          False  ...   \n",
       "...                                    ...          ...            ...  ...   \n",
       "58175                                  NaN        False          False  ...   \n",
       "58176  Australian Cattle Dog / Blue Heeler         True          False  ...   \n",
       "58177                                  NaN        False          False  ...   \n",
       "58178                          Mixed Breed         True          False  ...   \n",
       "58179                     Pit Bull Terrier         True          False  ...   \n",
       "\n",
       "      contact_city contact_state contact_zip contact_country stateQ  \\\n",
       "0        Las Vegas            NV       89147              US  89009   \n",
       "1        Las Vegas            NV       89147              US  89009   \n",
       "2         Mesquite            NV       89027              US  89009   \n",
       "3          Pahrump            NV       89048              US  89009   \n",
       "4        Henderson            NV       89052              US  89009   \n",
       "...            ...           ...         ...             ...    ...   \n",
       "58175       Lander            WY       82520              US     WY   \n",
       "58176     Riverton            WY       82501              US     WY   \n",
       "58177     Glenrock            WY       82637              US     WY   \n",
       "58178     Riverton            WY       82501              US     WY   \n",
       "58179     Riverton            WY       82501              US     WY   \n",
       "\n",
       "         accessed type.y                                        description  \\\n",
       "0      2019-09-20    Dog  Harley is not sure how he wound up at shelter ...   \n",
       "1      2019-09-20    Dog  6 year old Biggie has lost his home and really...   \n",
       "2      2019-09-20    Dog  Approx 2 years old.\\n Did I catch your eye? I ...   \n",
       "3      2019-09-20    Dog                                                NaN   \n",
       "4      2019-09-20    Dog  Theo is a friendly dachshund mix who gets alon...   \n",
       "...           ...    ...                                                ...   \n",
       "58175  2019-09-20    Dog  Due to the small size of our volunteer base, w...   \n",
       "58176  2019-09-20    Dog                                                NaN   \n",
       "58177  2019-09-20    Dog  Due to the small size of our volunteer base, w...   \n",
       "58178  2019-09-20    Dog                                                NaN   \n",
       "58179  2019-09-20    Dog                                                NaN   \n",
       "\n",
       "       stay_duration  stay_cost  \n",
       "0                 70     124.81  \n",
       "1                 49     122.07  \n",
       "2                 87     281.51  \n",
       "3                 62     145.83  \n",
       "4                 93     241.09  \n",
       "...              ...        ...  \n",
       "58175            100     324.34  \n",
       "58176             65     245.90  \n",
       "58177            100     184.06  \n",
       "58178             58      61.05  \n",
       "58179            100     255.38  \n",
       "\n",
       "[58180 rows x 38 columns]"
      ]
     },
     "execution_count": 13,
     "metadata": {},
     "output_type": "execute_result"
    }
   ],
   "source": [
    "dog"
   ]
  },
  {
   "cell_type": "code",
   "execution_count": null,
   "id": "c5ad23ac",
   "metadata": {
    "id": "c5ad23ac",
    "outputId": "c22d93dd-046a-41aa-aa57-1ad210729824",
    "scrolled": true
   },
   "outputs": [
    {
     "data": {
      "text/plain": [
       "breed_primary                      secondary_clean\n",
       "Affenpinscher                      m                    1\n",
       "                                   o                   16\n",
       "Afghan Hound                       o                    4\n",
       "Airedale Terrier                   m                    1\n",
       "                                   o                   18\n",
       "                                                     ... \n",
       "Wirehaired Terrier                 o                   56\n",
       "Xoloitzcuintli / Mexican Hairless  o                   11\n",
       "Yellow Labrador Retriever          o                  158\n",
       "Yorkshire Terrier                  m                   15\n",
       "                                   o                  345\n",
       "Name: id, Length: 354, dtype: int64"
      ]
     },
     "execution_count": 14,
     "metadata": {},
     "output_type": "execute_result"
    }
   ],
   "source": [
    "tab=dog.groupby(['breed_primary','secondary_clean'])['id'].count()\n",
    "tab"
   ]
  },
  {
   "cell_type": "code",
   "execution_count": null,
   "id": "0bc11f36",
   "metadata": {
    "id": "0bc11f36",
    "outputId": "76e83f38-3776-4e90-c53e-1b007d80a68b",
    "scrolled": true
   },
   "outputs": [
    {
     "data": {
      "text/html": [
       "<div>\n",
       "<style scoped>\n",
       "    .dataframe tbody tr th:only-of-type {\n",
       "        vertical-align: middle;\n",
       "    }\n",
       "\n",
       "    .dataframe tbody tr th {\n",
       "        vertical-align: top;\n",
       "    }\n",
       "\n",
       "    .dataframe thead th {\n",
       "        text-align: right;\n",
       "    }\n",
       "</style>\n",
       "<table border=\"1\" class=\"dataframe\">\n",
       "  <thead>\n",
       "    <tr style=\"text-align: right;\">\n",
       "      <th>secondary_clean</th>\n",
       "      <th>m</th>\n",
       "      <th>o</th>\n",
       "    </tr>\n",
       "    <tr>\n",
       "      <th>breed_primary</th>\n",
       "      <th></th>\n",
       "      <th></th>\n",
       "    </tr>\n",
       "  </thead>\n",
       "  <tbody>\n",
       "    <tr>\n",
       "      <th>Affenpinscher</th>\n",
       "      <td>1.0</td>\n",
       "      <td>16.0</td>\n",
       "    </tr>\n",
       "    <tr>\n",
       "      <th>Afghan Hound</th>\n",
       "      <td>NaN</td>\n",
       "      <td>4.0</td>\n",
       "    </tr>\n",
       "    <tr>\n",
       "      <th>Airedale Terrier</th>\n",
       "      <td>1.0</td>\n",
       "      <td>18.0</td>\n",
       "    </tr>\n",
       "    <tr>\n",
       "      <th>Akbash</th>\n",
       "      <td>NaN</td>\n",
       "      <td>3.0</td>\n",
       "    </tr>\n",
       "    <tr>\n",
       "      <th>Akita</th>\n",
       "      <td>6.0</td>\n",
       "      <td>175.0</td>\n",
       "    </tr>\n",
       "    <tr>\n",
       "      <th>...</th>\n",
       "      <td>...</td>\n",
       "      <td>...</td>\n",
       "    </tr>\n",
       "    <tr>\n",
       "      <th>Wirehaired Pointing Griffon</th>\n",
       "      <td>NaN</td>\n",
       "      <td>1.0</td>\n",
       "    </tr>\n",
       "    <tr>\n",
       "      <th>Wirehaired Terrier</th>\n",
       "      <td>4.0</td>\n",
       "      <td>56.0</td>\n",
       "    </tr>\n",
       "    <tr>\n",
       "      <th>Xoloitzcuintli / Mexican Hairless</th>\n",
       "      <td>NaN</td>\n",
       "      <td>11.0</td>\n",
       "    </tr>\n",
       "    <tr>\n",
       "      <th>Yellow Labrador Retriever</th>\n",
       "      <td>NaN</td>\n",
       "      <td>158.0</td>\n",
       "    </tr>\n",
       "    <tr>\n",
       "      <th>Yorkshire Terrier</th>\n",
       "      <td>15.0</td>\n",
       "      <td>345.0</td>\n",
       "    </tr>\n",
       "  </tbody>\n",
       "</table>\n",
       "<p>216 rows × 2 columns</p>\n",
       "</div>"
      ],
      "text/plain": [
       "secondary_clean                       m      o\n",
       "breed_primary                                 \n",
       "Affenpinscher                       1.0   16.0\n",
       "Afghan Hound                        NaN    4.0\n",
       "Airedale Terrier                    1.0   18.0\n",
       "Akbash                              NaN    3.0\n",
       "Akita                               6.0  175.0\n",
       "...                                 ...    ...\n",
       "Wirehaired Pointing Griffon         NaN    1.0\n",
       "Wirehaired Terrier                  4.0   56.0\n",
       "Xoloitzcuintli / Mexican Hairless   NaN   11.0\n",
       "Yellow Labrador Retriever           NaN  158.0\n",
       "Yorkshire Terrier                  15.0  345.0\n",
       "\n",
       "[216 rows x 2 columns]"
      ]
     },
     "execution_count": 15,
     "metadata": {},
     "output_type": "execute_result"
    }
   ],
   "source": [
    "tabdf=tab.unstack() #determine m/o\n",
    "tabdf"
   ]
  },
  {
   "cell_type": "code",
   "execution_count": null,
   "id": "643a0a9d",
   "metadata": {
    "id": "643a0a9d"
   },
   "outputs": [],
   "source": [
    "#dove m=Nan il ratio è 0\n",
    "tabdf.loc[tabdf['m'].isnull(),'m']=0"
   ]
  },
  {
   "cell_type": "code",
   "execution_count": null,
   "id": "174d26a7",
   "metadata": {
    "id": "174d26a7"
   },
   "outputs": [],
   "source": [
    "#dove o=Nan il ratio è +infinito, quindi posso mettere o=0.1\n",
    "tabdf.loc[tabdf['o'].isnull(),'o']=0.1"
   ]
  },
  {
   "cell_type": "code",
   "execution_count": null,
   "id": "608b78cc",
   "metadata": {
    "id": "608b78cc",
    "outputId": "25e0dd61-ded3-46bd-99d8-368853a4090c",
    "scrolled": true
   },
   "outputs": [
    {
     "data": {
      "text/html": [
       "<div>\n",
       "<style scoped>\n",
       "    .dataframe tbody tr th:only-of-type {\n",
       "        vertical-align: middle;\n",
       "    }\n",
       "\n",
       "    .dataframe tbody tr th {\n",
       "        vertical-align: top;\n",
       "    }\n",
       "\n",
       "    .dataframe thead th {\n",
       "        text-align: right;\n",
       "    }\n",
       "</style>\n",
       "<table border=\"1\" class=\"dataframe\">\n",
       "  <thead>\n",
       "    <tr style=\"text-align: right;\">\n",
       "      <th>secondary_clean</th>\n",
       "      <th>m</th>\n",
       "      <th>o</th>\n",
       "    </tr>\n",
       "    <tr>\n",
       "      <th>breed_primary</th>\n",
       "      <th></th>\n",
       "      <th></th>\n",
       "    </tr>\n",
       "  </thead>\n",
       "  <tbody>\n",
       "    <tr>\n",
       "      <th>Affenpinscher</th>\n",
       "      <td>1.0</td>\n",
       "      <td>16.0</td>\n",
       "    </tr>\n",
       "    <tr>\n",
       "      <th>Afghan Hound</th>\n",
       "      <td>0.0</td>\n",
       "      <td>4.0</td>\n",
       "    </tr>\n",
       "    <tr>\n",
       "      <th>Airedale Terrier</th>\n",
       "      <td>1.0</td>\n",
       "      <td>18.0</td>\n",
       "    </tr>\n",
       "    <tr>\n",
       "      <th>Akbash</th>\n",
       "      <td>0.0</td>\n",
       "      <td>3.0</td>\n",
       "    </tr>\n",
       "    <tr>\n",
       "      <th>Akita</th>\n",
       "      <td>6.0</td>\n",
       "      <td>175.0</td>\n",
       "    </tr>\n",
       "    <tr>\n",
       "      <th>...</th>\n",
       "      <td>...</td>\n",
       "      <td>...</td>\n",
       "    </tr>\n",
       "    <tr>\n",
       "      <th>Wirehaired Pointing Griffon</th>\n",
       "      <td>0.0</td>\n",
       "      <td>1.0</td>\n",
       "    </tr>\n",
       "    <tr>\n",
       "      <th>Wirehaired Terrier</th>\n",
       "      <td>4.0</td>\n",
       "      <td>56.0</td>\n",
       "    </tr>\n",
       "    <tr>\n",
       "      <th>Xoloitzcuintli / Mexican Hairless</th>\n",
       "      <td>0.0</td>\n",
       "      <td>11.0</td>\n",
       "    </tr>\n",
       "    <tr>\n",
       "      <th>Yellow Labrador Retriever</th>\n",
       "      <td>0.0</td>\n",
       "      <td>158.0</td>\n",
       "    </tr>\n",
       "    <tr>\n",
       "      <th>Yorkshire Terrier</th>\n",
       "      <td>15.0</td>\n",
       "      <td>345.0</td>\n",
       "    </tr>\n",
       "  </tbody>\n",
       "</table>\n",
       "<p>216 rows × 2 columns</p>\n",
       "</div>"
      ],
      "text/plain": [
       "secondary_clean                       m      o\n",
       "breed_primary                                 \n",
       "Affenpinscher                       1.0   16.0\n",
       "Afghan Hound                        0.0    4.0\n",
       "Airedale Terrier                    1.0   18.0\n",
       "Akbash                              0.0    3.0\n",
       "Akita                               6.0  175.0\n",
       "...                                 ...    ...\n",
       "Wirehaired Pointing Griffon         0.0    1.0\n",
       "Wirehaired Terrier                  4.0   56.0\n",
       "Xoloitzcuintli / Mexican Hairless   0.0   11.0\n",
       "Yellow Labrador Retriever           0.0  158.0\n",
       "Yorkshire Terrier                  15.0  345.0\n",
       "\n",
       "[216 rows x 2 columns]"
      ]
     },
     "execution_count": 18,
     "metadata": {},
     "output_type": "execute_result"
    }
   ],
   "source": [
    "tabdf"
   ]
  },
  {
   "cell_type": "code",
   "execution_count": null,
   "id": "3aa7b1d2",
   "metadata": {
    "id": "3aa7b1d2"
   },
   "outputs": [],
   "source": [
    "tabdf['ratio']=tabdf.apply(lambda row: row['m']/row['o'], axis=1)"
   ]
  },
  {
   "cell_type": "code",
   "execution_count": null,
   "id": "a09ee3c2",
   "metadata": {
    "id": "a09ee3c2",
    "outputId": "873b6960-f0c0-4ee3-9c4f-bf1d94d34821"
   },
   "outputs": [
    {
     "data": {
      "text/plain": [
       "secondary_clean\n",
       "m         2.0\n",
       "o         0.1\n",
       "ratio    20.0\n",
       "Name: Norwegian Buhund, dtype: float64"
      ]
     },
     "execution_count": 20,
     "metadata": {},
     "output_type": "execute_result"
    }
   ],
   "source": [
    "#check\n",
    "tabdf.loc['Norwegian Buhund'] #only entry where o=0\n"
   ]
  },
  {
   "cell_type": "code",
   "execution_count": null,
   "id": "37fb8f9f",
   "metadata": {
    "id": "37fb8f9f",
    "outputId": "6251feda-9088-4d63-dbda-7e8d850d165b"
   },
   "outputs": [
    {
     "data": {
      "text/html": [
       "<div>\n",
       "<style scoped>\n",
       "    .dataframe tbody tr th:only-of-type {\n",
       "        vertical-align: middle;\n",
       "    }\n",
       "\n",
       "    .dataframe tbody tr th {\n",
       "        vertical-align: top;\n",
       "    }\n",
       "\n",
       "    .dataframe thead th {\n",
       "        text-align: right;\n",
       "    }\n",
       "</style>\n",
       "<table border=\"1\" class=\"dataframe\">\n",
       "  <thead>\n",
       "    <tr style=\"text-align: right;\">\n",
       "      <th>secondary_clean</th>\n",
       "      <th>m</th>\n",
       "      <th>o</th>\n",
       "      <th>ratio</th>\n",
       "    </tr>\n",
       "    <tr>\n",
       "      <th>breed_primary</th>\n",
       "      <th></th>\n",
       "      <th></th>\n",
       "      <th></th>\n",
       "    </tr>\n",
       "  </thead>\n",
       "  <tbody>\n",
       "    <tr>\n",
       "      <th>Affenpinscher</th>\n",
       "      <td>1.0</td>\n",
       "      <td>16.0</td>\n",
       "      <td>0.062500</td>\n",
       "    </tr>\n",
       "    <tr>\n",
       "      <th>Afghan Hound</th>\n",
       "      <td>0.0</td>\n",
       "      <td>4.0</td>\n",
       "      <td>0.000000</td>\n",
       "    </tr>\n",
       "    <tr>\n",
       "      <th>Airedale Terrier</th>\n",
       "      <td>1.0</td>\n",
       "      <td>18.0</td>\n",
       "      <td>0.055556</td>\n",
       "    </tr>\n",
       "    <tr>\n",
       "      <th>Akbash</th>\n",
       "      <td>0.0</td>\n",
       "      <td>3.0</td>\n",
       "      <td>0.000000</td>\n",
       "    </tr>\n",
       "    <tr>\n",
       "      <th>Akita</th>\n",
       "      <td>6.0</td>\n",
       "      <td>175.0</td>\n",
       "      <td>0.034286</td>\n",
       "    </tr>\n",
       "  </tbody>\n",
       "</table>\n",
       "</div>"
      ],
      "text/plain": [
       "secondary_clean     m      o     ratio\n",
       "breed_primary                         \n",
       "Affenpinscher     1.0   16.0  0.062500\n",
       "Afghan Hound      0.0    4.0  0.000000\n",
       "Airedale Terrier  1.0   18.0  0.055556\n",
       "Akbash            0.0    3.0  0.000000\n",
       "Akita             6.0  175.0  0.034286"
      ]
     },
     "execution_count": 21,
     "metadata": {},
     "output_type": "execute_result"
    }
   ],
   "source": [
    "tabdf.head()"
   ]
  },
  {
   "cell_type": "markdown",
   "id": "f94c4aed-9490-440d-af7e-744ed71e6819",
   "metadata": {
    "id": "f94c4aed-9490-440d-af7e-744ed71e6819"
   },
   "source": [
    "### 4. For each (primary) breed, determine the earliest and the latest `posted` timestamp.\n",
    "\n"
   ]
  },
  {
   "cell_type": "code",
   "execution_count": null,
   "id": "b2609804",
   "metadata": {
    "id": "b2609804"
   },
   "outputs": [],
   "source": [
    "dog['posted']=pd.to_datetime(dog['posted'])"
   ]
  },
  {
   "cell_type": "code",
   "execution_count": null,
   "id": "e330b03f",
   "metadata": {
    "id": "e330b03f",
    "outputId": "071c4b84-97b5-4a9d-89e1-edd1865d97af"
   },
   "outputs": [
    {
     "data": {
      "text/html": [
       "<div>\n",
       "<style scoped>\n",
       "    .dataframe tbody tr th:only-of-type {\n",
       "        vertical-align: middle;\n",
       "    }\n",
       "\n",
       "    .dataframe tbody tr th {\n",
       "        vertical-align: top;\n",
       "    }\n",
       "\n",
       "    .dataframe thead th {\n",
       "        text-align: right;\n",
       "    }\n",
       "</style>\n",
       "<table border=\"1\" class=\"dataframe\">\n",
       "  <thead>\n",
       "    <tr style=\"text-align: right;\">\n",
       "      <th></th>\n",
       "      <th>posted</th>\n",
       "    </tr>\n",
       "    <tr>\n",
       "      <th>breed_primary</th>\n",
       "      <th></th>\n",
       "    </tr>\n",
       "  </thead>\n",
       "  <tbody>\n",
       "    <tr>\n",
       "      <th>Affenpinscher</th>\n",
       "      <td>2019-09-14 10:10:51+00:00</td>\n",
       "    </tr>\n",
       "    <tr>\n",
       "      <th>Afghan Hound</th>\n",
       "      <td>2019-07-27 00:38:48+00:00</td>\n",
       "    </tr>\n",
       "    <tr>\n",
       "      <th>Airedale Terrier</th>\n",
       "      <td>2019-09-19 18:40:39+00:00</td>\n",
       "    </tr>\n",
       "    <tr>\n",
       "      <th>Akbash</th>\n",
       "      <td>2019-08-23 17:11:04+00:00</td>\n",
       "    </tr>\n",
       "    <tr>\n",
       "      <th>Akita</th>\n",
       "      <td>2019-09-20 15:19:57+00:00</td>\n",
       "    </tr>\n",
       "    <tr>\n",
       "      <th>...</th>\n",
       "      <td>...</td>\n",
       "    </tr>\n",
       "    <tr>\n",
       "      <th>Wirehaired Pointing Griffon</th>\n",
       "      <td>2016-06-29 20:03:55+00:00</td>\n",
       "    </tr>\n",
       "    <tr>\n",
       "      <th>Wirehaired Terrier</th>\n",
       "      <td>2019-09-19 22:52:45+00:00</td>\n",
       "    </tr>\n",
       "    <tr>\n",
       "      <th>Xoloitzcuintli / Mexican Hairless</th>\n",
       "      <td>2019-09-08 11:15:54+00:00</td>\n",
       "    </tr>\n",
       "    <tr>\n",
       "      <th>Yellow Labrador Retriever</th>\n",
       "      <td>2019-09-20 06:30:27+00:00</td>\n",
       "    </tr>\n",
       "    <tr>\n",
       "      <th>Yorkshire Terrier</th>\n",
       "      <td>2019-09-20 16:56:38+00:00</td>\n",
       "    </tr>\n",
       "  </tbody>\n",
       "</table>\n",
       "<p>216 rows × 1 columns</p>\n",
       "</div>"
      ],
      "text/plain": [
       "                                                     posted\n",
       "breed_primary                                              \n",
       "Affenpinscher                     2019-09-14 10:10:51+00:00\n",
       "Afghan Hound                      2019-07-27 00:38:48+00:00\n",
       "Airedale Terrier                  2019-09-19 18:40:39+00:00\n",
       "Akbash                            2019-08-23 17:11:04+00:00\n",
       "Akita                             2019-09-20 15:19:57+00:00\n",
       "...                                                     ...\n",
       "Wirehaired Pointing Griffon       2016-06-29 20:03:55+00:00\n",
       "Wirehaired Terrier                2019-09-19 22:52:45+00:00\n",
       "Xoloitzcuintli / Mexican Hairless 2019-09-08 11:15:54+00:00\n",
       "Yellow Labrador Retriever         2019-09-20 06:30:27+00:00\n",
       "Yorkshire Terrier                 2019-09-20 16:56:38+00:00\n",
       "\n",
       "[216 rows x 1 columns]"
      ]
     },
     "execution_count": 37,
     "metadata": {},
     "output_type": "execute_result"
    }
   ],
   "source": [
    "time=dog.groupby('breed_primary')[['posted']].max()\n",
    "time"
   ]
  },
  {
   "cell_type": "code",
   "execution_count": null,
   "id": "c2ae03b2",
   "metadata": {
    "id": "c2ae03b2",
    "outputId": "35c0cb0a-085a-47a2-af80-25935c7857af"
   },
   "outputs": [
    {
     "data": {
      "text/html": [
       "<div>\n",
       "<style scoped>\n",
       "    .dataframe tbody tr th:only-of-type {\n",
       "        vertical-align: middle;\n",
       "    }\n",
       "\n",
       "    .dataframe tbody tr th {\n",
       "        vertical-align: top;\n",
       "    }\n",
       "\n",
       "    .dataframe thead th {\n",
       "        text-align: right;\n",
       "    }\n",
       "</style>\n",
       "<table border=\"1\" class=\"dataframe\">\n",
       "  <thead>\n",
       "    <tr style=\"text-align: right;\">\n",
       "      <th></th>\n",
       "      <th>posted</th>\n",
       "      <th>postedmin</th>\n",
       "    </tr>\n",
       "    <tr>\n",
       "      <th>breed_primary</th>\n",
       "      <th></th>\n",
       "      <th></th>\n",
       "    </tr>\n",
       "  </thead>\n",
       "  <tbody>\n",
       "    <tr>\n",
       "      <th>Affenpinscher</th>\n",
       "      <td>2019-09-14 10:10:51+00:00</td>\n",
       "      <td>2012-03-08 10:27:33+00:00</td>\n",
       "    </tr>\n",
       "    <tr>\n",
       "      <th>Afghan Hound</th>\n",
       "      <td>2019-07-27 00:38:48+00:00</td>\n",
       "      <td>2017-06-29 23:28:51+00:00</td>\n",
       "    </tr>\n",
       "    <tr>\n",
       "      <th>Airedale Terrier</th>\n",
       "      <td>2019-09-19 18:40:39+00:00</td>\n",
       "      <td>2014-06-13 12:59:36+00:00</td>\n",
       "    </tr>\n",
       "    <tr>\n",
       "      <th>Akbash</th>\n",
       "      <td>2019-08-23 17:11:04+00:00</td>\n",
       "      <td>2019-07-21 00:35:59+00:00</td>\n",
       "    </tr>\n",
       "    <tr>\n",
       "      <th>Akita</th>\n",
       "      <td>2019-09-20 15:19:57+00:00</td>\n",
       "      <td>2012-03-03 09:31:08+00:00</td>\n",
       "    </tr>\n",
       "    <tr>\n",
       "      <th>...</th>\n",
       "      <td>...</td>\n",
       "      <td>...</td>\n",
       "    </tr>\n",
       "    <tr>\n",
       "      <th>Wirehaired Pointing Griffon</th>\n",
       "      <td>2016-06-29 20:03:55+00:00</td>\n",
       "      <td>2016-06-29 20:03:55+00:00</td>\n",
       "    </tr>\n",
       "    <tr>\n",
       "      <th>Wirehaired Terrier</th>\n",
       "      <td>2019-09-19 22:52:45+00:00</td>\n",
       "      <td>2012-11-27 14:07:54+00:00</td>\n",
       "    </tr>\n",
       "    <tr>\n",
       "      <th>Xoloitzcuintli / Mexican Hairless</th>\n",
       "      <td>2019-09-08 11:15:54+00:00</td>\n",
       "      <td>2007-02-01 00:00:00+00:00</td>\n",
       "    </tr>\n",
       "    <tr>\n",
       "      <th>Yellow Labrador Retriever</th>\n",
       "      <td>2019-09-20 06:30:27+00:00</td>\n",
       "      <td>2010-05-31 00:00:00+00:00</td>\n",
       "    </tr>\n",
       "    <tr>\n",
       "      <th>Yorkshire Terrier</th>\n",
       "      <td>2019-09-20 16:56:38+00:00</td>\n",
       "      <td>2012-02-04 17:14:52+00:00</td>\n",
       "    </tr>\n",
       "  </tbody>\n",
       "</table>\n",
       "<p>216 rows × 2 columns</p>\n",
       "</div>"
      ],
      "text/plain": [
       "                                                     posted  \\\n",
       "breed_primary                                                 \n",
       "Affenpinscher                     2019-09-14 10:10:51+00:00   \n",
       "Afghan Hound                      2019-07-27 00:38:48+00:00   \n",
       "Airedale Terrier                  2019-09-19 18:40:39+00:00   \n",
       "Akbash                            2019-08-23 17:11:04+00:00   \n",
       "Akita                             2019-09-20 15:19:57+00:00   \n",
       "...                                                     ...   \n",
       "Wirehaired Pointing Griffon       2016-06-29 20:03:55+00:00   \n",
       "Wirehaired Terrier                2019-09-19 22:52:45+00:00   \n",
       "Xoloitzcuintli / Mexican Hairless 2019-09-08 11:15:54+00:00   \n",
       "Yellow Labrador Retriever         2019-09-20 06:30:27+00:00   \n",
       "Yorkshire Terrier                 2019-09-20 16:56:38+00:00   \n",
       "\n",
       "                                                  postedmin  \n",
       "breed_primary                                                \n",
       "Affenpinscher                     2012-03-08 10:27:33+00:00  \n",
       "Afghan Hound                      2017-06-29 23:28:51+00:00  \n",
       "Airedale Terrier                  2014-06-13 12:59:36+00:00  \n",
       "Akbash                            2019-07-21 00:35:59+00:00  \n",
       "Akita                             2012-03-03 09:31:08+00:00  \n",
       "...                                                     ...  \n",
       "Wirehaired Pointing Griffon       2016-06-29 20:03:55+00:00  \n",
       "Wirehaired Terrier                2012-11-27 14:07:54+00:00  \n",
       "Xoloitzcuintli / Mexican Hairless 2007-02-01 00:00:00+00:00  \n",
       "Yellow Labrador Retriever         2010-05-31 00:00:00+00:00  \n",
       "Yorkshire Terrier                 2012-02-04 17:14:52+00:00  \n",
       "\n",
       "[216 rows x 2 columns]"
      ]
     },
     "execution_count": 48,
     "metadata": {},
     "output_type": "execute_result"
    }
   ],
   "source": [
    "time['postedmin']=dog.groupby('breed_primary')[['posted']].min()\n",
    "time"
   ]
  },
  {
   "cell_type": "markdown",
   "id": "db828c77-9432-4533-9695-e45ec86dc885",
   "metadata": {
    "id": "db828c77-9432-4533-9695-e45ec86dc885"
   },
   "source": [
    "### 5. For each state, compute the sex imbalance, that is the difference between male and female dogs. In which state this imbalance is largest?\n",
    "\n",
    "per ora solo pastroccio non so che state scegliere"
   ]
  },
  {
   "cell_type": "code",
   "execution_count": null,
   "id": "036ecf4a",
   "metadata": {
    "id": "036ecf4a",
    "outputId": "daadbf9f-4e17-46a1-9910-c13285cb4a47",
    "scrolled": false
   },
   "outputs": [
    {
     "data": {
      "text/plain": [
       "array(['89009', '89014', '89024', '89027', '89121', '89406', '89408',\n",
       "       '89423', '89431', '89451', '89801', 'AK', 'AL', 'AR', 'AZ', 'CA',\n",
       "       'CO', 'CT', 'DC', 'DE', 'FL', 'GA', 'HI', 'IA', 'ID', 'IL', 'IN',\n",
       "       'KS', 'KY', 'LA', 'MA', 'MD', 'ME', 'MI', 'MN', 'MO', 'MS', 'MT',\n",
       "       'NC', 'ND', 'NE', 'NH', 'NJ', 'NM', 'NY', 'OH', 'OK', 'OR', 'PA',\n",
       "       'RI', 'SC', 'SD', 'TN', 'TX', 'UT', 'VA', 'VT', 'WA', 'WI', 'WV',\n",
       "       'WY'], dtype=object)"
      ]
     },
     "execution_count": 53,
     "metadata": {},
     "output_type": "execute_result"
    }
   ],
   "source": [
    "dog.stateQ.unique() #should  "
   ]
  },
  {
   "cell_type": "code",
   "execution_count": null,
   "id": "a3852dbb",
   "metadata": {
    "id": "a3852dbb",
    "outputId": "d1afca7b-9035-4957-9a9e-c62f819936ee"
   },
   "outputs": [
    {
     "data": {
      "text/plain": [
       "array(['NV', 'AZ'], dtype=object)"
      ]
     },
     "execution_count": 71,
     "metadata": {},
     "output_type": "execute_result"
    }
   ],
   "source": [
    "contr=dog[dog['stateQ']=='89009'][['contact_state']] #in 89009 c'è sia NV che AZ\n",
    "contr.contact_state.unique()"
   ]
  },
  {
   "cell_type": "code",
   "execution_count": null,
   "id": "c940231e",
   "metadata": {
    "id": "c940231e",
    "outputId": "efd5d8dd-ab3f-4528-8a5f-61ba7ef58267"
   },
   "outputs": [
    {
     "data": {
      "text/plain": [
       "array(['NV', 'AZ', 'UT', 'CA', 'AK', 'AL', 'AR', 'CO', 'NY', 'MA', 'CT',\n",
       "       'RI', 'NJ', 'NH', 'VT', 'MD', 'VA', 'DC', 'PA', 'WV', 'DE', 'FL',\n",
       "       'GA', 'HI', 'IA', 'ID', 'IL', 'IN', 'OH', 'KS', 'KY', 'LA', 'ME',\n",
       "       'QC', 'NB', 'MI', 'MN', 'WI', 'MO', 'MS', 'MT', 'NC', 'SC', 'ND',\n",
       "       'NE', 'NM', 'OK', 'OR', 'SD', 'TN', 'TX', 'WA', 'WY'], dtype=object)"
      ]
     },
     "execution_count": 57,
     "metadata": {},
     "output_type": "execute_result"
    }
   ],
   "source": [
    "dog.contact_state.unique()"
   ]
  },
  {
   "cell_type": "code",
   "execution_count": null,
   "id": "c5239776",
   "metadata": {
    "id": "c5239776",
    "outputId": "488e278d-62f7-4559-8437-247dd7cd140f"
   },
   "outputs": [
    {
     "data": {
      "text/plain": [
       "id                                                          46042150\n",
       "org_id                                                         NV163\n",
       "url                https://www.petfinder.com/dog/harley-46042150/...\n",
       "type.x                                                           Dog\n",
       "species                                                          Dog\n",
       "breed_primary                         American Staffordshire Terrier\n",
       "secondary_clean                                                    m\n",
       "breed_secondary                                          Mixed Breed\n",
       "breed_mixed                                                     True\n",
       "breed_unknown                                                  False\n",
       "color_primary                                          White / Cream\n",
       "color_secondary                          Yellow / Tan / Blond / Fawn\n",
       "color_tertiary                                                   NaN\n",
       "age                                                           Senior\n",
       "sex                                                             Male\n",
       "size                                                          Medium\n",
       "coat                                                           Short\n",
       "fixed                                                           True\n",
       "house_trained                                                   True\n",
       "declawed                                                         NaN\n",
       "special_needs                                                  False\n",
       "shots_current                                                   True\n",
       "env_children                                                     NaN\n",
       "env_dogs                                                         NaN\n",
       "env_cats                                                         NaN\n",
       "name                                                          HARLEY\n",
       "status                                                     adoptable\n",
       "posted                                     2019-09-20 16:37:59+00:00\n",
       "contact_city                                               Las Vegas\n",
       "contact_state                                                     NV\n",
       "contact_zip                                                    89147\n",
       "contact_country                                                   US\n",
       "stateQ                                                         89009\n",
       "accessed                                                  2019-09-20\n",
       "type.y                                                           Dog\n",
       "description        Harley is not sure how he wound up at shelter ...\n",
       "stay_duration                                                     70\n",
       "stay_cost                                                     124.81\n",
       "Name: 0, dtype: object"
      ]
     },
     "execution_count": 56,
     "metadata": {},
     "output_type": "execute_result"
    }
   ],
   "source": [
    "dog.iloc[0]"
   ]
  },
  {
   "cell_type": "markdown",
   "id": "2bf98f50-14b1-4a48-9906-c71e614789c5",
   "metadata": {
    "id": "2bf98f50-14b1-4a48-9906-c71e614789c5"
   },
   "source": [
    "### 6. For each pair (age, size), determine the average duration of the stay and the average cost of stay."
   ]
  },
  {
   "cell_type": "code",
   "execution_count": null,
   "id": "6gN2pgHNxvJ5",
   "metadata": {
    "colab": {
     "base_uri": "https://localhost:8080/",
     "height": 158
    },
    "id": "6gN2pgHNxvJ5",
    "outputId": "410ebfd5-87a4-4502-85d6-ad6a4d9b36dd"
   },
   "outputs": [
    {
     "ename": "NameError",
     "evalue": "ignored",
     "output_type": "error",
     "traceback": [
      "\u001b[0;31m---------------------------------------------------------------------------\u001b[0m",
      "\u001b[0;31mNameError\u001b[0m                                 Traceback (most recent call last)",
      "\u001b[0;32m<ipython-input-1-448613aaa199>\u001b[0m in \u001b[0;36m<module>\u001b[0;34m\u001b[0m\n\u001b[0;32m----> 1\u001b[0;31m \u001b[0mdog\u001b[0m\u001b[0;34m.\u001b[0m\u001b[0mgroupby\u001b[0m\u001b[0;34m(\u001b[0m\u001b[0;34m[\u001b[0m\u001b[0;34m'age'\u001b[0m\u001b[0;34m,\u001b[0m\u001b[0;34m'size'\u001b[0m\u001b[0;34m]\u001b[0m\u001b[0;34m,\u001b[0m \u001b[0mas_index\u001b[0m\u001b[0;34m=\u001b[0m\u001b[0;32mFalse\u001b[0m\u001b[0;34m)\u001b[0m\u001b[0;34m[\u001b[0m\u001b[0;34m[\u001b[0m\u001b[0;34m'stay_duration'\u001b[0m\u001b[0;34m,\u001b[0m\u001b[0;34m'stay_cost'\u001b[0m\u001b[0;34m]\u001b[0m\u001b[0;34m]\u001b[0m\u001b[0;34m.\u001b[0m\u001b[0mmean\u001b[0m\u001b[0;34m(\u001b[0m\u001b[0;34m)\u001b[0m\u001b[0;34m\u001b[0m\u001b[0;34m\u001b[0m\u001b[0m\n\u001b[0m",
      "\u001b[0;31mNameError\u001b[0m: name 'dog' is not defined"
     ]
    }
   ],
   "source": [
    "dog.groupby(['age','size'], as_index=False)[['stay_duration','stay_cost']].mean()"
   ]
  },
  {
   "cell_type": "markdown",
   "id": "b473c62b-ed47-41b4-9de9-38999c6c6427",
   "metadata": {
    "id": "b473c62b-ed47-41b4-9de9-38999c6c6427"
   },
   "source": [
    "### 7. Find the dogs involved in at least 3 travels. Also list the breed of those dogs."
   ]
  },
  {
   "cell_type": "markdown",
   "id": "9af8db3f-9440-45f3-ab0a-7816a2f07eff",
   "metadata": {
    "id": "9af8db3f-9440-45f3-ab0a-7816a2f07eff"
   },
   "source": [
    "### 8. Fix the `travels` table so that the correct state is computed from  the `manual` and the `found` fields. If `manual` is not missing, then it overrides what is stored in `found`."
   ]
  },
  {
   "cell_type": "markdown",
   "id": "58b8ebc7-d50d-4718-9bfa-1a2f95679eba",
   "metadata": {
    "id": "58b8ebc7-d50d-4718-9bfa-1a2f95679eba"
   },
   "source": [
    "### 9. For each state, compute the ratio between the number of travels and the population."
   ]
  },
  {
   "cell_type": "markdown",
   "id": "2ac557be-0433-4c65-9e17-b10775e96d31",
   "metadata": {
    "id": "2ac557be-0433-4c65-9e17-b10775e96d31"
   },
   "source": [
    "### 10. For each dog, compute the number of days from the `posted` day to the day of last access."
   ]
  },
  {
   "cell_type": "markdown",
   "id": "c7f19f9e-ee36-4c50-a0d4-d36bd8135f7f",
   "metadata": {
    "id": "c7f19f9e-ee36-4c50-a0d4-d36bd8135f7f"
   },
   "source": [
    "### 11. Partition the dogs according to the number of weeks from the `posted` day to the day of last access."
   ]
  },
  {
   "cell_type": "markdown",
   "id": "59f24e67-8828-435d-9d91-56559f78cb10",
   "metadata": {
    "id": "59f24e67-8828-435d-9d91-56559f78cb10"
   },
   "source": [
    "### 12. Find for duplicates in the `dogs` dataset. Two records are duplicates if they have (1) same breeds and sex, and (2) they share at least 90% of the words in the description field. Extra points if you find and implement a more refined for determining if two rows are duplicates."
   ]
  },
  {
   "cell_type": "code",
   "execution_count": 14,
   "id": "d7a828d1",
   "metadata": {},
   "outputs": [
    {
     "ename": "SyntaxError",
     "evalue": "invalid syntax (<ipython-input-14-8aa4f9aeeca6>, line 1)",
     "output_type": "error",
     "traceback": [
      "\u001b[1;36m  File \u001b[1;32m\"<ipython-input-14-8aa4f9aeeca6>\"\u001b[1;36m, line \u001b[1;32m1\u001b[0m\n\u001b[1;33m    pip install gingerit\u001b[0m\n\u001b[1;37m        ^\u001b[0m\n\u001b[1;31mSyntaxError\u001b[0m\u001b[1;31m:\u001b[0m invalid syntax\n"
     ]
    }
   ],
   "source": [
    "pip install gingerit"
   ]
  },
  {
   "cell_type": "code",
   "execution_count": 15,
   "id": "359197d8",
   "metadata": {},
   "outputs": [
    {
     "name": "stdout",
     "output_type": "stream",
     "text": [
      "Collecting ftfy\n",
      "  Downloading ftfy-6.1.1-py3-none-any.whl (53 kB)\n",
      "Requirement already satisfied: wcwidth>=0.2.5 in c:\\users\\macor\\anaconda3\\lib\\site-packages (from ftfy) (0.2.5)\n",
      "Installing collected packages: ftfy\n",
      "Successfully installed ftfy-6.1.1\n",
      "Note: you may need to restart the kernel to use updated packages.\n"
     ]
    }
   ],
   "source": [
    "pip install ftfy"
   ]
  },
  {
   "cell_type": "code",
   "execution_count": 5,
   "id": "6fa9ccbc",
   "metadata": {},
   "outputs": [
    {
     "data": {
      "text/plain": [
       "'â\\x80¢Basset Hound, female, â\\x80¢10 years \\n\\nDelightful Daisy is a friendly girl looking for a retirement home! Daisy is a spry 10 who greets people with a wagging tail and a hop so it is easy to pet her. She also enjoys walks, snuggling on the couch, and treats, not necessarily in that order. Daisy is a loved pet who will be missed, but she does not enjoy living with young children, and two have joined the family. Daisy is happy to leave them alone but the children are young and humans are not as easy to train as a dog is. Daisy does live with another dog but can be protective of her food, and may be happiest as an only dog, unless the family is prepared to manage the dogs. Daisy is much more about people than other dogs. Daisy has never lived with cats, but does have the hound part of Basset Hound in full, and likes to chase small fuzzy creatures in the yard, so we suspect it would not go well. She is open to meeting a cat though to see if our theory is correct. Daisy will be staying with her family until a new home is found, but applications can be filled out through Peppertree, and we will forward them on to her family.\\n\\n\\n** If you are interested in adopting this dog, you must first complete an adoption application at http://peppertree.org/adoptapp.php. Or visit our site (http://peppertree.org/adoptlist.php) and learn about other Peppertree dogs. *Note: visual breed identification in dogs is unreliable so for most of the dogs we are only guessing at predominant breed or breed mix. We get to know each dog as an individual and will do our best to describe each of our dogs based on personality, not by breed label.'"
      ]
     },
     "execution_count": 5,
     "metadata": {},
     "output_type": "execute_result"
    }
   ],
   "source": [
    " prova = dog.loc[12495].at[\"description\"]"
   ]
  },
  {
   "cell_type": "code",
   "execution_count": 21,
   "id": "cc2ab8b0",
   "metadata": {},
   "outputs": [
    {
     "data": {
      "text/plain": [
       "'•Basset Hound, female, •10 years \\n\\nDelightful Daisy is a friendly girl looking for a retirement home! Daisy is a spry 10 who greets people with a wagging tail and a hop so it is easy to pet her. She also enjoys walks, snuggling on the couch, and treats, not necessarily in that order. Daisy is a loved pet who will be missed, but she does not enjoy living with young children, and two have joined the family. Daisy is happy to leave them alone but the children are young and humans are not as easy to train as a dog is. Daisy does live with another dog but can be protective of her food, and may be happiest as an only dog, unless the family is prepared to manage the dogs. Daisy is much more about people than other dogs. Daisy has never lived with cats, but does have the hound part of Basset Hound in full, and likes to chase small fuzzy creatures in the yard, so we suspect it would not go well. She is open to meeting a cat though to see if our theory is correct. Daisy will be staying with her family until a new home is found, but applications can be filled out through Peppertree, and we will forward them on to her family.\\n\\n\\n** If you are interested in adopting this dog, you must first complete an adoption application at http://peppertree.org/adoptapp.php. Or visit our site (http://peppertree.org/adoptlist.php) and learn about other Peppertree dogs. *Note: visual breed identification in dogs is unreliable so for most of the dogs we are only guessing at predominant breed or breed mix. We get to know each dog as an individual and will do our best to describe each of our dogs based on personality, not by breed label.'"
      ]
     },
     "execution_count": 21,
     "metadata": {},
     "output_type": "execute_result"
    }
   ],
   "source": [
    "from ftfy import fix_encoding\n",
    "from ftfy import fix_text\n",
    "prova = dog.loc[12495].at[\"description\"]\n",
    "fix_text(prova)"
   ]
  },
  {
   "cell_type": "code",
   "execution_count": 4,
   "id": "6ee32b44",
   "metadata": {},
   "outputs": [
    {
     "name": "stdout",
     "output_type": "stream",
     "text": [
      "Collecting spacy\n",
      "  Downloading spacy-3.4.3-cp38-cp38-win_amd64.whl (12.2 MB)\n",
      "Requirement already satisfied: numpy>=1.15.0 in c:\\users\\macor\\anaconda3\\lib\\site-packages (from spacy) (1.20.1)\n",
      "Collecting murmurhash<1.1.0,>=0.28.0\n",
      "  Downloading murmurhash-1.0.9-cp38-cp38-win_amd64.whl (18 kB)\n",
      "Requirement already satisfied: jinja2 in c:\\users\\macor\\anaconda3\\lib\\site-packages (from spacy) (2.11.3)\n",
      "Collecting typer<0.8.0,>=0.3.0\n",
      "  Downloading typer-0.7.0-py3-none-any.whl (38 kB)\n",
      "Requirement already satisfied: setuptools in c:\\users\\macor\\anaconda3\\lib\\site-packages (from spacy) (52.0.0.post20210125)\n",
      "Collecting thinc<8.2.0,>=8.1.0\n",
      "  Downloading thinc-8.1.5-cp38-cp38-win_amd64.whl (1.3 MB)\n",
      "Collecting preshed<3.1.0,>=3.0.2\n",
      "  Downloading preshed-3.0.8-cp38-cp38-win_amd64.whl (96 kB)\n",
      "Collecting wasabi<1.1.0,>=0.9.1\n",
      "  Downloading wasabi-0.10.1-py3-none-any.whl (26 kB)\n",
      "Requirement already satisfied: requests<3.0.0,>=2.13.0 in c:\\users\\macor\\anaconda3\\lib\\site-packages (from spacy) (2.25.1)\n",
      "Collecting srsly<3.0.0,>=2.4.3\n",
      "  Downloading srsly-2.4.5-cp38-cp38-win_amd64.whl (481 kB)\n",
      "Requirement already satisfied: tqdm<5.0.0,>=4.38.0 in c:\\users\\macor\\anaconda3\\lib\\site-packages (from spacy) (4.59.0)\n",
      "Collecting pydantic!=1.8,!=1.8.1,<1.11.0,>=1.7.4\n",
      "  Downloading pydantic-1.10.2-cp38-cp38-win_amd64.whl (2.2 MB)\n",
      "Collecting langcodes<4.0.0,>=3.2.0\n",
      "  Downloading langcodes-3.3.0-py3-none-any.whl (181 kB)\n",
      "Requirement already satisfied: packaging>=20.0 in c:\\users\\macor\\anaconda3\\lib\\site-packages (from spacy) (20.9)\n",
      "Collecting catalogue<2.1.0,>=2.0.6\n",
      "  Downloading catalogue-2.0.8-py3-none-any.whl (17 kB)\n",
      "Collecting spacy-legacy<3.1.0,>=3.0.10\n",
      "  Downloading spacy_legacy-3.0.10-py2.py3-none-any.whl (21 kB)\n",
      "Collecting spacy-loggers<2.0.0,>=1.0.0\n",
      "  Downloading spacy_loggers-1.0.3-py3-none-any.whl (9.3 kB)\n",
      "Collecting pathy>=0.3.5\n",
      "  Downloading pathy-0.10.0-py3-none-any.whl (48 kB)\n",
      "Collecting cymem<2.1.0,>=2.0.2\n",
      "  Downloading cymem-2.0.7-cp38-cp38-win_amd64.whl (30 kB)\n",
      "Requirement already satisfied: pyparsing>=2.0.2 in c:\\users\\macor\\anaconda3\\lib\\site-packages (from packaging>=20.0->spacy) (2.4.7)\n",
      "Collecting smart-open<6.0.0,>=5.2.1\n",
      "  Downloading smart_open-5.2.1-py3-none-any.whl (58 kB)\n",
      "Collecting typing-extensions>=4.1.0\n",
      "  Downloading typing_extensions-4.4.0-py3-none-any.whl (26 kB)\n",
      "Requirement already satisfied: certifi>=2017.4.17 in c:\\users\\macor\\anaconda3\\lib\\site-packages (from requests<3.0.0,>=2.13.0->spacy) (2020.12.5)\n",
      "Requirement already satisfied: idna<3,>=2.5 in c:\\users\\macor\\anaconda3\\lib\\site-packages (from requests<3.0.0,>=2.13.0->spacy) (2.10)\n",
      "Requirement already satisfied: chardet<5,>=3.0.2 in c:\\users\\macor\\anaconda3\\lib\\site-packages (from requests<3.0.0,>=2.13.0->spacy) (4.0.0)\n",
      "Requirement already satisfied: urllib3<1.27,>=1.21.1 in c:\\users\\macor\\anaconda3\\lib\\site-packages (from requests<3.0.0,>=2.13.0->spacy) (1.26.4)\n",
      "Collecting blis<0.8.0,>=0.7.8\n",
      "  Downloading blis-0.7.9-cp38-cp38-win_amd64.whl (7.0 MB)\n",
      "Collecting confection<1.0.0,>=0.0.1\n",
      "  Downloading confection-0.0.3-py3-none-any.whl (32 kB)\n",
      "Requirement already satisfied: click<9.0.0,>=7.1.1 in c:\\users\\macor\\anaconda3\\lib\\site-packages (from typer<0.8.0,>=0.3.0->spacy) (7.1.2)\n",
      "Requirement already satisfied: MarkupSafe>=0.23 in c:\\users\\macor\\anaconda3\\lib\\site-packages (from jinja2->spacy) (1.1.1)\n",
      "Installing collected packages: typing-extensions, catalogue, srsly, pydantic, murmurhash, cymem, wasabi, typer, smart-open, preshed, confection, blis, thinc, spacy-loggers, spacy-legacy, pathy, langcodes, spacy\n",
      "  Attempting uninstall: typing-extensions\n",
      "    Found existing installation: typing-extensions 3.7.4.3\n",
      "    Uninstalling typing-extensions-3.7.4.3:\n",
      "      Successfully uninstalled typing-extensions-3.7.4.3\n",
      "Successfully installed blis-0.7.9 catalogue-2.0.8 confection-0.0.3 cymem-2.0.7 langcodes-3.3.0 murmurhash-1.0.9 pathy-0.10.0 preshed-3.0.8 pydantic-1.10.2 smart-open-5.2.1 spacy-3.4.3 spacy-legacy-3.0.10 spacy-loggers-1.0.3 srsly-2.4.5 thinc-8.1.5 typer-0.7.0 typing-extensions-4.4.0 wasabi-0.10.1\n",
      "Note: you may need to restart the kernel to use updated packages.\n"
     ]
    }
   ],
   "source": [
    "pip install spacy"
   ]
  },
  {
   "cell_type": "code",
   "execution_count": 6,
   "id": "190e2723",
   "metadata": {},
   "outputs": [
    {
     "name": "stdout",
     "output_type": "stream",
     "text": [
      "Collecting contextualSpellCheck\n",
      "  Downloading contextualSpellCheck-0.4.3-py3-none-any.whl (128 kB)\n",
      "Collecting torch>=1.4\n",
      "  Downloading torch-1.13.0-cp38-cp38-win_amd64.whl (167.3 MB)\n",
      "Collecting transformers>=4.0.0\n",
      "  Downloading transformers-4.25.1-py3-none-any.whl (5.8 MB)\n",
      "Collecting editdistance==0.6.0\n",
      "  Downloading editdistance-0.6.0-cp38-cp38-win_amd64.whl (24 kB)\n",
      "Requirement already satisfied: spacy>=3.0.0 in c:\\users\\macor\\anaconda3\\lib\\site-packages (from contextualSpellCheck) (3.4.3)\n",
      "Requirement already satisfied: spacy-loggers<2.0.0,>=1.0.0 in c:\\users\\macor\\anaconda3\\lib\\site-packages (from spacy>=3.0.0->contextualSpellCheck) (1.0.3)\n",
      "Requirement already satisfied: srsly<3.0.0,>=2.4.3 in c:\\users\\macor\\anaconda3\\lib\\site-packages (from spacy>=3.0.0->contextualSpellCheck) (2.4.5)\n",
      "Requirement already satisfied: langcodes<4.0.0,>=3.2.0 in c:\\users\\macor\\anaconda3\\lib\\site-packages (from spacy>=3.0.0->contextualSpellCheck) (3.3.0)\n",
      "Requirement already satisfied: typer<0.8.0,>=0.3.0 in c:\\users\\macor\\anaconda3\\lib\\site-packages (from spacy>=3.0.0->contextualSpellCheck) (0.7.0)\n",
      "Requirement already satisfied: setuptools in c:\\users\\macor\\anaconda3\\lib\\site-packages (from spacy>=3.0.0->contextualSpellCheck) (52.0.0.post20210125)\n",
      "Requirement already satisfied: jinja2 in c:\\users\\macor\\anaconda3\\lib\\site-packages (from spacy>=3.0.0->contextualSpellCheck) (2.11.3)\n",
      "Note: you may need to restart the kernel to use updated packages.\n",
      "Requirement already satisfied: spacy-legacy<3.1.0,>=3.0.10 in c:\\users\\macor\\anaconda3\\lib\\site-packages (from spacy>=3.0.0->contextualSpellCheck) (3.0.10)\n",
      "Requirement already satisfied: thinc<8.2.0,>=8.1.0 in c:\\users\\macor\\anaconda3\\lib\\site-packages (from spacy>=3.0.0->contextualSpellCheck) (8.1.5)\n",
      "Requirement already satisfied: pydantic!=1.8,!=1.8.1,<1.11.0,>=1.7.4 in c:\\users\\macor\\anaconda3\\lib\\site-packages (from spacy>=3.0.0->contextualSpellCheck) (1.10.2)\n",
      "Requirement already satisfied: requests<3.0.0,>=2.13.0 in c:\\users\\macor\\anaconda3\\lib\\site-packages (from spacy>=3.0.0->contextualSpellCheck) (2.25.1)\n",
      "Requirement already satisfied: cymem<2.1.0,>=2.0.2 in c:\\users\\macor\\anaconda3\\lib\\site-packages (from spacy>=3.0.0->contextualSpellCheck) (2.0.7)\n",
      "Requirement already satisfied: pathy>=0.3.5 in c:\\users\\macor\\anaconda3\\lib\\site-packages (from spacy>=3.0.0->contextualSpellCheck) (0.10.0)\n",
      "Requirement already satisfied: preshed<3.1.0,>=3.0.2 in c:\\users\\macor\\anaconda3\\lib\\site-packages (from spacy>=3.0.0->contextualSpellCheck) (3.0.8)\n",
      "Requirement already satisfied: numpy>=1.15.0 in c:\\users\\macor\\anaconda3\\lib\\site-packages (from spacy>=3.0.0->contextualSpellCheck) (1.20.1)\n",
      "Requirement already satisfied: wasabi<1.1.0,>=0.9.1 in c:\\users\\macor\\anaconda3\\lib\\site-packages (from spacy>=3.0.0->contextualSpellCheck) (0.10.1)\n",
      "Requirement already satisfied: packaging>=20.0 in c:\\users\\macor\\anaconda3\\lib\\site-packages (from spacy>=3.0.0->contextualSpellCheck) (20.9)\n",
      "Requirement already satisfied: tqdm<5.0.0,>=4.38.0 in c:\\users\\macor\\anaconda3\\lib\\site-packages (from spacy>=3.0.0->contextualSpellCheck) (4.59.0)\n",
      "Requirement already satisfied: murmurhash<1.1.0,>=0.28.0 in c:\\users\\macor\\anaconda3\\lib\\site-packages (from spacy>=3.0.0->contextualSpellCheck) (1.0.9)\n",
      "Requirement already satisfied: catalogue<2.1.0,>=2.0.6 in c:\\users\\macor\\anaconda3\\lib\\site-packages (from spacy>=3.0.0->contextualSpellCheck) (2.0.8)\n",
      "Requirement already satisfied: pyparsing>=2.0.2 in c:\\users\\macor\\anaconda3\\lib\\site-packages (from packaging>=20.0->spacy>=3.0.0->contextualSpellCheck) (2.4.7)\n",
      "Requirement already satisfied: smart-open<6.0.0,>=5.2.1 in c:\\users\\macor\\anaconda3\\lib\\site-packages (from pathy>=0.3.5->spacy>=3.0.0->contextualSpellCheck) (5.2.1)\n",
      "Requirement already satisfied: typing-extensions>=4.1.0 in c:\\users\\macor\\anaconda3\\lib\\site-packages (from pydantic!=1.8,!=1.8.1,<1.11.0,>=1.7.4->spacy>=3.0.0->contextualSpellCheck) (4.4.0)\n",
      "Requirement already satisfied: chardet<5,>=3.0.2 in c:\\users\\macor\\anaconda3\\lib\\site-packages (from requests<3.0.0,>=2.13.0->spacy>=3.0.0->contextualSpellCheck) (4.0.0)\n",
      "Requirement already satisfied: certifi>=2017.4.17 in c:\\users\\macor\\anaconda3\\lib\\site-packages (from requests<3.0.0,>=2.13.0->spacy>=3.0.0->contextualSpellCheck) (2020.12.5)\n",
      "Requirement already satisfied: urllib3<1.27,>=1.21.1 in c:\\users\\macor\\anaconda3\\lib\\site-packages (from requests<3.0.0,>=2.13.0->spacy>=3.0.0->contextualSpellCheck) (1.26.4)\n",
      "Requirement already satisfied: idna<3,>=2.5 in c:\\users\\macor\\anaconda3\\lib\\site-packages (from requests<3.0.0,>=2.13.0->spacy>=3.0.0->contextualSpellCheck) (2.10)\n",
      "Requirement already satisfied: blis<0.8.0,>=0.7.8 in c:\\users\\macor\\anaconda3\\lib\\site-packages (from thinc<8.2.0,>=8.1.0->spacy>=3.0.0->contextualSpellCheck) (0.7.9)\n",
      "Requirement already satisfied: confection<1.0.0,>=0.0.1 in c:\\users\\macor\\anaconda3\\lib\\site-packages (from thinc<8.2.0,>=8.1.0->spacy>=3.0.0->contextualSpellCheck) (0.0.3)\n",
      "Requirement already satisfied: pyyaml>=5.1 in c:\\users\\macor\\anaconda3\\lib\\site-packages (from transformers>=4.0.0->contextualSpellCheck) (5.4.1)\n",
      "Requirement already satisfied: filelock in c:\\users\\macor\\anaconda3\\lib\\site-packages (from transformers>=4.0.0->contextualSpellCheck) (3.0.12)\n",
      "Requirement already satisfied: regex!=2019.12.17 in c:\\users\\macor\\anaconda3\\lib\\site-packages (from transformers>=4.0.0->contextualSpellCheck) (2021.4.4)\n",
      "Collecting tokenizers!=0.11.3,<0.14,>=0.11.1\n",
      "  Downloading tokenizers-0.13.2-cp38-cp38-win_amd64.whl (3.3 MB)\n",
      "Collecting huggingface-hub<1.0,>=0.10.0\n",
      "  Downloading huggingface_hub-0.11.1-py3-none-any.whl (182 kB)\n",
      "Requirement already satisfied: click<9.0.0,>=7.1.1 in c:\\users\\macor\\anaconda3\\lib\\site-packages (from typer<0.8.0,>=0.3.0->spacy>=3.0.0->contextualSpellCheck) (7.1.2)\n",
      "Requirement already satisfied: MarkupSafe>=0.23 in c:\\users\\macor\\anaconda3\\lib\\site-packages (from jinja2->spacy>=3.0.0->contextualSpellCheck) (1.1.1)\n",
      "Installing collected packages: tokenizers, huggingface-hub, transformers, torch, editdistance, contextualSpellCheck\n",
      "Successfully installed contextualSpellCheck-0.4.3 editdistance-0.6.0 huggingface-hub-0.11.1 tokenizers-0.13.2 torch-1.13.0 transformers-4.25.1\n"
     ]
    }
   ],
   "source": [
    "pip install contextualSpellCheck"
   ]
  },
  {
   "cell_type": "code",
   "execution_count": 7,
   "id": "fdfb0ce4",
   "metadata": {},
   "outputs": [
    {
     "ename": "OSError",
     "evalue": "[E050] Can't find model 'en_core_web_sm'. It doesn't seem to be a Python package or a valid path to a data directory.",
     "output_type": "error",
     "traceback": [
      "\u001b[1;31m---------------------------------------------------------------------------\u001b[0m",
      "\u001b[1;31mOSError\u001b[0m                                   Traceback (most recent call last)",
      "\u001b[1;32m<ipython-input-7-13f1479aaa15>\u001b[0m in \u001b[0;36m<module>\u001b[1;34m\u001b[0m\n\u001b[0;32m      2\u001b[0m \u001b[1;32mimport\u001b[0m \u001b[0mcontextualSpellCheck\u001b[0m\u001b[1;33m\u001b[0m\u001b[1;33m\u001b[0m\u001b[0m\n\u001b[0;32m      3\u001b[0m \u001b[1;33m\u001b[0m\u001b[0m\n\u001b[1;32m----> 4\u001b[1;33m \u001b[0mnlp\u001b[0m \u001b[1;33m=\u001b[0m \u001b[0mspacy\u001b[0m\u001b[1;33m.\u001b[0m\u001b[0mload\u001b[0m\u001b[1;33m(\u001b[0m\u001b[1;34m'en_core_web_sm'\u001b[0m\u001b[1;33m)\u001b[0m\u001b[1;33m\u001b[0m\u001b[1;33m\u001b[0m\u001b[0m\n\u001b[0m\u001b[0;32m      5\u001b[0m \u001b[0mcontextualSpellCheck\u001b[0m\u001b[1;33m.\u001b[0m\u001b[0madd_to_pipe\u001b[0m\u001b[1;33m(\u001b[0m\u001b[0mnlp\u001b[0m\u001b[1;33m)\u001b[0m\u001b[1;33m\u001b[0m\u001b[1;33m\u001b[0m\u001b[0m\n\u001b[0;32m      6\u001b[0m \u001b[0mdoc\u001b[0m \u001b[1;33m=\u001b[0m \u001b[0mnlp\u001b[0m\u001b[1;33m(\u001b[0m\u001b[1;34m'Income was $9.4 milion compared to the prior year of $2.7 milion.'\u001b[0m\u001b[1;33m)\u001b[0m\u001b[1;33m\u001b[0m\u001b[1;33m\u001b[0m\u001b[0m\n",
      "\u001b[1;32m~\\anaconda3\\lib\\site-packages\\spacy\\__init__.py\u001b[0m in \u001b[0;36mload\u001b[1;34m(name, vocab, disable, enable, exclude, config)\u001b[0m\n\u001b[0;32m     52\u001b[0m     \u001b[0mRETURNS\u001b[0m \u001b[1;33m(\u001b[0m\u001b[0mLanguage\u001b[0m\u001b[1;33m)\u001b[0m\u001b[1;33m:\u001b[0m \u001b[0mThe\u001b[0m \u001b[0mloaded\u001b[0m \u001b[0mnlp\u001b[0m \u001b[0mobject\u001b[0m\u001b[1;33m.\u001b[0m\u001b[1;33m\u001b[0m\u001b[1;33m\u001b[0m\u001b[0m\n\u001b[0;32m     53\u001b[0m     \"\"\"\n\u001b[1;32m---> 54\u001b[1;33m     return util.load_model(\n\u001b[0m\u001b[0;32m     55\u001b[0m         \u001b[0mname\u001b[0m\u001b[1;33m,\u001b[0m\u001b[1;33m\u001b[0m\u001b[1;33m\u001b[0m\u001b[0m\n\u001b[0;32m     56\u001b[0m         \u001b[0mvocab\u001b[0m\u001b[1;33m=\u001b[0m\u001b[0mvocab\u001b[0m\u001b[1;33m,\u001b[0m\u001b[1;33m\u001b[0m\u001b[1;33m\u001b[0m\u001b[0m\n",
      "\u001b[1;32m~\\anaconda3\\lib\\site-packages\\spacy\\util.py\u001b[0m in \u001b[0;36mload_model\u001b[1;34m(name, vocab, disable, enable, exclude, config)\u001b[0m\n\u001b[0;32m    437\u001b[0m     \u001b[1;32mif\u001b[0m \u001b[0mname\u001b[0m \u001b[1;32min\u001b[0m \u001b[0mOLD_MODEL_SHORTCUTS\u001b[0m\u001b[1;33m:\u001b[0m\u001b[1;33m\u001b[0m\u001b[1;33m\u001b[0m\u001b[0m\n\u001b[0;32m    438\u001b[0m         \u001b[1;32mraise\u001b[0m \u001b[0mIOError\u001b[0m\u001b[1;33m(\u001b[0m\u001b[0mErrors\u001b[0m\u001b[1;33m.\u001b[0m\u001b[0mE941\u001b[0m\u001b[1;33m.\u001b[0m\u001b[0mformat\u001b[0m\u001b[1;33m(\u001b[0m\u001b[0mname\u001b[0m\u001b[1;33m=\u001b[0m\u001b[0mname\u001b[0m\u001b[1;33m,\u001b[0m \u001b[0mfull\u001b[0m\u001b[1;33m=\u001b[0m\u001b[0mOLD_MODEL_SHORTCUTS\u001b[0m\u001b[1;33m[\u001b[0m\u001b[0mname\u001b[0m\u001b[1;33m]\u001b[0m\u001b[1;33m)\u001b[0m\u001b[1;33m)\u001b[0m  \u001b[1;31m# type: ignore[index]\u001b[0m\u001b[1;33m\u001b[0m\u001b[1;33m\u001b[0m\u001b[0m\n\u001b[1;32m--> 439\u001b[1;33m     \u001b[1;32mraise\u001b[0m \u001b[0mIOError\u001b[0m\u001b[1;33m(\u001b[0m\u001b[0mErrors\u001b[0m\u001b[1;33m.\u001b[0m\u001b[0mE050\u001b[0m\u001b[1;33m.\u001b[0m\u001b[0mformat\u001b[0m\u001b[1;33m(\u001b[0m\u001b[0mname\u001b[0m\u001b[1;33m=\u001b[0m\u001b[0mname\u001b[0m\u001b[1;33m)\u001b[0m\u001b[1;33m)\u001b[0m\u001b[1;33m\u001b[0m\u001b[1;33m\u001b[0m\u001b[0m\n\u001b[0m\u001b[0;32m    440\u001b[0m \u001b[1;33m\u001b[0m\u001b[0m\n\u001b[0;32m    441\u001b[0m \u001b[1;33m\u001b[0m\u001b[0m\n",
      "\u001b[1;31mOSError\u001b[0m: [E050] Can't find model 'en_core_web_sm'. It doesn't seem to be a Python package or a valid path to a data directory."
     ]
    }
   ],
   "source": [
    "import spacy\n",
    "import contextualSpellCheck\n",
    "\n",
    "nlp = spacy.load('en_core_web_sm')\n",
    "contextualSpellCheck.add_to_pipe(nlp)\n",
    "doc = nlp('Income was $9.4 milion compared to the prior year of $2.7 milion.')\n",
    "\n",
    "print(doc._.performed_spellCheck) #Should be True\n",
    "print(doc._.outcome_spellCheck) #Income was $9.4 million compared to the prior year of $2.7 million."
   ]
  }
 ],
 "metadata": {
  "colab": {
   "provenance": []
  },
  "kernelspec": {
   "display_name": "Python 3",
   "language": "python",
   "name": "python3"
  },
  "language_info": {
   "codemirror_mode": {
    "name": "ipython",
    "version": 3
   },
   "file_extension": ".py",
   "mimetype": "text/x-python",
   "name": "python",
   "nbconvert_exporter": "python",
   "pygments_lexer": "ipython3",
   "version": "3.8.8"
  }
 },
 "nbformat": 4,
 "nbformat_minor": 5
}
