{
 "cells": [
  {
   "cell_type": "markdown",
   "id": "384ad61e",
   "metadata": {},
   "source": [
    "# <center>Project for Foundations of Computer Science</center>\n",
    "### <center>University of Milano-Bicocca</center>\n",
    "<center>Matteo Corona - Costanza Pagnin</center>"
   ]
  },
  {
   "cell_type": "markdown",
   "id": "df1426c8",
   "metadata": {},
   "source": [
    "### 0. Preliminary steps\n",
    "### Importing libraries"
   ]
  },
  {
   "cell_type": "code",
   "execution_count": 1,
   "id": "57aaec60",
   "metadata": {},
   "outputs": [],
   "source": [
    "import pandas as pd\n",
    "import numpy as np\n",
    "import re"
   ]
  },
  {
   "cell_type": "markdown",
   "id": "0aa0e5d7",
   "metadata": {},
   "source": [
    "### Reading *.csv* files from GitHub Repository"
   ]
  },
  {
   "cell_type": "code",
   "execution_count": 2,
   "id": "a2fdd8dc",
   "metadata": {
    "id": "a2fdd8dc"
   },
   "outputs": [],
   "source": [
    "travel=pd.read_csv('https://raw.githubusercontent.com/CoroTheBoss/CS-project/main/dogTravel.csv', index_col=0)\n",
    "dog=pd.read_csv('https://raw.githubusercontent.com/CoroTheBoss/CS-project/main/dogs.csv')\n",
    "nst=pd.read_csv('https://raw.githubusercontent.com/CoroTheBoss/CS-project/main/NST-EST2021-POP.csv')"
   ]
  },
  {
   "cell_type": "markdown",
   "id": "b7a0ffa6-ad32-446f-8780-eb3138658e14",
   "metadata": {
    "id": "b7a0ffa6-ad32-446f-8780-eb3138658e14"
   },
   "source": [
    "### 1. Extract all dogs with status that is *not adoptable*"
   ]
  },
  {
   "cell_type": "markdown",
   "id": "ce517075",
   "metadata": {},
   "source": [
    "Some values were off by one column so they had to be properly shifted"
   ]
  },
  {
   "cell_type": "code",
   "execution_count": 3,
   "id": "4f1373b3",
   "metadata": {},
   "outputs": [],
   "source": [
    "# Shifting values\n",
    "dog.loc[dog['status']!='adoptable','status':'accessed'] = dog.loc[dog['status']!='adoptable','status':'accessed'].shift(periods=1, axis=\"columns\")"
   ]
  },
  {
   "cell_type": "code",
   "execution_count": 4,
   "id": "81bbb482",
   "metadata": {},
   "outputs": [
    {
     "data": {
      "text/plain": [
       "array(['adoptable', nan], dtype=object)"
      ]
     },
     "execution_count": 4,
     "metadata": {},
     "output_type": "execute_result"
    }
   ],
   "source": [
    "# Cheching all possible values in status\n",
    "dog[\"status\"].unique()"
   ]
  },
  {
   "cell_type": "markdown",
   "id": "c4c38387",
   "metadata": {},
   "source": [
    "Since there are two different values, the NaN values refers to the *not adoptable* dogs"
   ]
  },
  {
   "cell_type": "code",
   "execution_count": 5,
   "id": "4b423405",
   "metadata": {
    "scrolled": true
   },
   "outputs": [
    {
     "data": {
      "text/html": [
       "<div>\n",
       "<style scoped>\n",
       "    .dataframe tbody tr th:only-of-type {\n",
       "        vertical-align: middle;\n",
       "    }\n",
       "\n",
       "    .dataframe tbody tr th {\n",
       "        vertical-align: top;\n",
       "    }\n",
       "\n",
       "    .dataframe thead th {\n",
       "        text-align: right;\n",
       "    }\n",
       "</style>\n",
       "<table border=\"1\" class=\"dataframe\">\n",
       "  <thead>\n",
       "    <tr style=\"text-align: right;\">\n",
       "      <th></th>\n",
       "      <th>id</th>\n",
       "      <th>status</th>\n",
       "    </tr>\n",
       "  </thead>\n",
       "  <tbody>\n",
       "    <tr>\n",
       "      <th>644</th>\n",
       "      <td>41330726</td>\n",
       "      <td>not adoptable</td>\n",
       "    </tr>\n",
       "    <tr>\n",
       "      <th>5549</th>\n",
       "      <td>38169117</td>\n",
       "      <td>not adoptable</td>\n",
       "    </tr>\n",
       "    <tr>\n",
       "      <th>10888</th>\n",
       "      <td>45833989</td>\n",
       "      <td>not adoptable</td>\n",
       "    </tr>\n",
       "    <tr>\n",
       "      <th>11983</th>\n",
       "      <td>45515547</td>\n",
       "      <td>not adoptable</td>\n",
       "    </tr>\n",
       "    <tr>\n",
       "      <th>12495</th>\n",
       "      <td>45294115</td>\n",
       "      <td>not adoptable</td>\n",
       "    </tr>\n",
       "  </tbody>\n",
       "</table>\n",
       "</div>"
      ],
      "text/plain": [
       "             id         status\n",
       "644    41330726  not adoptable\n",
       "5549   38169117  not adoptable\n",
       "10888  45833989  not adoptable\n",
       "11983  45515547  not adoptable\n",
       "12495  45294115  not adoptable"
      ]
     },
     "execution_count": 5,
     "metadata": {},
     "output_type": "execute_result"
    }
   ],
   "source": [
    "# Replacing NaN values\n",
    "dog.loc[dog.status != 'adoptable', ['status']] = 'not adoptable'\n",
    "# Printing the first not adoptable dogs to visualize the data\n",
    "dog.loc[dog.status != 'adoptable', ['id', 'status']].head()"
   ]
  },
  {
   "cell_type": "code",
   "execution_count": 6,
   "id": "d9fca190",
   "metadata": {
    "scrolled": true
   },
   "outputs": [
    {
     "name": "stdout",
     "output_type": "stream",
     "text": [
      "There are 33 dogs with status that is not adoptable\n"
     ]
    }
   ],
   "source": [
    "print(\"There are\", len(dog[dog.status != 'adoptable']) ,\"dogs with status that is not adoptable\" )"
   ]
  },
  {
   "cell_type": "markdown",
   "id": "f3d46848-9e88-4eae-96af-43263c16371e",
   "metadata": {
    "id": "f3d46848-9e88-4eae-96af-43263c16371e"
   },
   "source": [
    "### 2. For each (primary) breed, determine the number of dogs"
   ]
  },
  {
   "cell_type": "code",
   "execution_count": 7,
   "id": "3d41fc11",
   "metadata": {
    "id": "3d41fc11",
    "outputId": "94ddaa6f-f198-416f-c2ab-84dd5c92462b"
   },
   "outputs": [
    {
     "data": {
      "text/html": [
       "<div>\n",
       "<style scoped>\n",
       "    .dataframe tbody tr th:only-of-type {\n",
       "        vertical-align: middle;\n",
       "    }\n",
       "\n",
       "    .dataframe tbody tr th {\n",
       "        vertical-align: top;\n",
       "    }\n",
       "\n",
       "    .dataframe thead th {\n",
       "        text-align: right;\n",
       "    }\n",
       "</style>\n",
       "<table border=\"1\" class=\"dataframe\">\n",
       "  <thead>\n",
       "    <tr style=\"text-align: right;\">\n",
       "      <th></th>\n",
       "      <th>id</th>\n",
       "      <th>org_id</th>\n",
       "      <th>url</th>\n",
       "      <th>type.x</th>\n",
       "      <th>species</th>\n",
       "      <th>breed_primary</th>\n",
       "      <th>breed_secondary</th>\n",
       "      <th>breed_mixed</th>\n",
       "      <th>breed_unknown</th>\n",
       "      <th>color_primary</th>\n",
       "      <th>...</th>\n",
       "      <th>contact_city</th>\n",
       "      <th>contact_state</th>\n",
       "      <th>contact_zip</th>\n",
       "      <th>contact_country</th>\n",
       "      <th>stateQ</th>\n",
       "      <th>accessed</th>\n",
       "      <th>type.y</th>\n",
       "      <th>description</th>\n",
       "      <th>stay_duration</th>\n",
       "      <th>stay_cost</th>\n",
       "    </tr>\n",
       "  </thead>\n",
       "  <tbody>\n",
       "  </tbody>\n",
       "</table>\n",
       "<p>0 rows × 37 columns</p>\n",
       "</div>"
      ],
      "text/plain": [
       "Empty DataFrame\n",
       "Columns: [id, org_id, url, type.x, species, breed_primary, breed_secondary, breed_mixed, breed_unknown, color_primary, color_secondary, color_tertiary, age, sex, size, coat, fixed, house_trained, declawed, special_needs, shots_current, env_children, env_dogs, env_cats, name, status, posted, contact_city, contact_state, contact_zip, contact_country, stateQ, accessed, type.y, description, stay_duration, stay_cost]\n",
       "Index: []\n",
       "\n",
       "[0 rows x 37 columns]"
      ]
     },
     "execution_count": 7,
     "metadata": {},
     "output_type": "execute_result"
    }
   ],
   "source": [
    "# Checking if all dogs have a primary key\n",
    "dog[dog.breed_primary.isna()]"
   ]
  },
  {
   "cell_type": "code",
   "execution_count": 151,
   "id": "5ba1ea25",
   "metadata": {},
   "outputs": [
    {
     "data": {
      "text/html": [
       "<div>\n",
       "<style scoped>\n",
       "    .dataframe tbody tr th:only-of-type {\n",
       "        vertical-align: middle;\n",
       "    }\n",
       "\n",
       "    .dataframe tbody tr th {\n",
       "        vertical-align: top;\n",
       "    }\n",
       "\n",
       "    .dataframe thead th {\n",
       "        text-align: right;\n",
       "    }\n",
       "</style>\n",
       "<table border=\"1\" class=\"dataframe\">\n",
       "  <thead>\n",
       "    <tr style=\"text-align: right;\">\n",
       "      <th></th>\n",
       "      <th>id</th>\n",
       "      <th>org_id</th>\n",
       "      <th>url</th>\n",
       "      <th>type.x</th>\n",
       "      <th>species</th>\n",
       "      <th>breed_primary</th>\n",
       "      <th>breed_secondary</th>\n",
       "      <th>breed_mixed</th>\n",
       "      <th>breed_unknown</th>\n",
       "      <th>color_primary</th>\n",
       "      <th>...</th>\n",
       "      <th>contact_city</th>\n",
       "      <th>contact_state</th>\n",
       "      <th>contact_zip</th>\n",
       "      <th>contact_country</th>\n",
       "      <th>stateQ</th>\n",
       "      <th>accessed</th>\n",
       "      <th>type.y</th>\n",
       "      <th>description</th>\n",
       "      <th>stay_duration</th>\n",
       "      <th>stay_cost</th>\n",
       "    </tr>\n",
       "  </thead>\n",
       "  <tbody>\n",
       "  </tbody>\n",
       "</table>\n",
       "<p>0 rows × 37 columns</p>\n",
       "</div>"
      ],
      "text/plain": [
       "Empty DataFrame\n",
       "Columns: [id, org_id, url, type.x, species, breed_primary, breed_secondary, breed_mixed, breed_unknown, color_primary, color_secondary, color_tertiary, age, sex, size, coat, fixed, house_trained, declawed, special_needs, shots_current, env_children, env_dogs, env_cats, name, status, posted, contact_city, contact_state, contact_zip, contact_country, stateQ, accessed, type.y, description, stay_duration, stay_cost]\n",
       "Index: []\n",
       "\n",
       "[0 rows x 37 columns]"
      ]
     },
     "execution_count": 151,
     "metadata": {},
     "output_type": "execute_result"
    }
   ],
   "source": [
    "# Checking if all dogs have an id\n",
    "dog[dog.id.isna()]"
   ]
  },
  {
   "cell_type": "code",
   "execution_count": 8,
   "id": "09f65870",
   "metadata": {
    "id": "09f65870",
    "outputId": "0e919ea7-c05a-4379-e9a7-ff8a32811d78"
   },
   "outputs": [
    {
     "data": {
      "text/plain": [
       "breed_primary\n",
       "Affenpinscher                         17\n",
       "Afghan Hound                           4\n",
       "Airedale Terrier                      19\n",
       "Akbash                                 3\n",
       "Akita                                181\n",
       "                                    ... \n",
       "Wirehaired Pointing Griffon            1\n",
       "Wirehaired Terrier                    60\n",
       "Xoloitzcuintli / Mexican Hairless     11\n",
       "Yellow Labrador Retriever            158\n",
       "Yorkshire Terrier                    360\n",
       "Name: id, Length: 216, dtype: int64"
      ]
     },
     "execution_count": 8,
     "metadata": {},
     "output_type": "execute_result"
    }
   ],
   "source": [
    "# Grouping dogs by their primary key and counting them\n",
    "dog.groupby('breed_primary')['id'].count()"
   ]
  },
  {
   "cell_type": "markdown",
   "id": "bd288f44-e2f2-4420-b662-da98a666a8a9",
   "metadata": {
    "id": "bd288f44-e2f2-4420-b662-da98a666a8a9"
   },
   "source": [
    "### 3. For each (primary) breed, determine the ratio between the number of dogs of `Mixed Breed` and those not of Mixed Breed. Hint: look at the `secondary_breed`."
   ]
  },
  {
   "cell_type": "code",
   "execution_count": 162,
   "id": "0bc11f36",
   "metadata": {
    "id": "0bc11f36",
    "outputId": "76e83f38-3776-4e90-c53e-1b007d80a68b"
   },
   "outputs": [
    {
     "data": {
      "text/html": [
       "<div>\n",
       "<style scoped>\n",
       "    .dataframe tbody tr th:only-of-type {\n",
       "        vertical-align: middle;\n",
       "    }\n",
       "\n",
       "    .dataframe tbody tr th {\n",
       "        vertical-align: top;\n",
       "    }\n",
       "\n",
       "    .dataframe thead th {\n",
       "        text-align: right;\n",
       "    }\n",
       "</style>\n",
       "<table border=\"1\" class=\"dataframe\">\n",
       "  <thead>\n",
       "    <tr style=\"text-align: right;\">\n",
       "      <th></th>\n",
       "      <th>not_mixed</th>\n",
       "      <th>mixed</th>\n",
       "    </tr>\n",
       "    <tr>\n",
       "      <th>breed_primary</th>\n",
       "      <th></th>\n",
       "      <th></th>\n",
       "    </tr>\n",
       "  </thead>\n",
       "  <tbody>\n",
       "    <tr>\n",
       "      <th>Affenpinscher</th>\n",
       "      <td>12.0</td>\n",
       "      <td>5.0</td>\n",
       "    </tr>\n",
       "    <tr>\n",
       "      <th>Afghan Hound</th>\n",
       "      <td>0.0</td>\n",
       "      <td>4.0</td>\n",
       "    </tr>\n",
       "    <tr>\n",
       "      <th>Airedale Terrier</th>\n",
       "      <td>2.0</td>\n",
       "      <td>17.0</td>\n",
       "    </tr>\n",
       "    <tr>\n",
       "      <th>Akbash</th>\n",
       "      <td>1.0</td>\n",
       "      <td>2.0</td>\n",
       "    </tr>\n",
       "    <tr>\n",
       "      <th>Akita</th>\n",
       "      <td>98.0</td>\n",
       "      <td>83.0</td>\n",
       "    </tr>\n",
       "    <tr>\n",
       "      <th>...</th>\n",
       "      <td>...</td>\n",
       "      <td>...</td>\n",
       "    </tr>\n",
       "    <tr>\n",
       "      <th>Wirehaired Pointing Griffon</th>\n",
       "      <td>0.0</td>\n",
       "      <td>1.0</td>\n",
       "    </tr>\n",
       "    <tr>\n",
       "      <th>Wirehaired Terrier</th>\n",
       "      <td>15.0</td>\n",
       "      <td>45.0</td>\n",
       "    </tr>\n",
       "    <tr>\n",
       "      <th>Xoloitzcuintli / Mexican Hairless</th>\n",
       "      <td>6.0</td>\n",
       "      <td>5.0</td>\n",
       "    </tr>\n",
       "    <tr>\n",
       "      <th>Yellow Labrador Retriever</th>\n",
       "      <td>36.0</td>\n",
       "      <td>122.0</td>\n",
       "    </tr>\n",
       "    <tr>\n",
       "      <th>Yorkshire Terrier</th>\n",
       "      <td>157.0</td>\n",
       "      <td>203.0</td>\n",
       "    </tr>\n",
       "  </tbody>\n",
       "</table>\n",
       "<p>216 rows × 2 columns</p>\n",
       "</div>"
      ],
      "text/plain": [
       "                                   not_mixed  mixed\n",
       "breed_primary                                      \n",
       "Affenpinscher                           12.0    5.0\n",
       "Afghan Hound                             0.0    4.0\n",
       "Airedale Terrier                         2.0   17.0\n",
       "Akbash                                   1.0    2.0\n",
       "Akita                                   98.0   83.0\n",
       "...                                      ...    ...\n",
       "Wirehaired Pointing Griffon              0.0    1.0\n",
       "Wirehaired Terrier                      15.0   45.0\n",
       "Xoloitzcuintli / Mexican Hairless        6.0    5.0\n",
       "Yellow Labrador Retriever               36.0  122.0\n",
       "Yorkshire Terrier                      157.0  203.0\n",
       "\n",
       "[216 rows x 2 columns]"
      ]
     },
     "execution_count": 162,
     "metadata": {},
     "output_type": "execute_result"
    }
   ],
   "source": [
    "breed_tab = dog.groupby(['breed_primary','breed_mixed'])['id'].count()\n",
    "breed_tab = breed_tab.unstack()\n",
    "breed_tab.columns = ['not_mixed', 'mixed']\n",
    "breed_tab[np.isnan(breed_tab)] = 0\n",
    "breed_tab"
   ]
  },
  {
   "cell_type": "code",
   "execution_count": 163,
   "id": "e887c264",
   "metadata": {},
   "outputs": [
    {
     "data": {
      "text/html": [
       "<div>\n",
       "<style scoped>\n",
       "    .dataframe tbody tr th:only-of-type {\n",
       "        vertical-align: middle;\n",
       "    }\n",
       "\n",
       "    .dataframe tbody tr th {\n",
       "        vertical-align: top;\n",
       "    }\n",
       "\n",
       "    .dataframe thead th {\n",
       "        text-align: right;\n",
       "    }\n",
       "</style>\n",
       "<table border=\"1\" class=\"dataframe\">\n",
       "  <thead>\n",
       "    <tr style=\"text-align: right;\">\n",
       "      <th></th>\n",
       "      <th>not_mixed</th>\n",
       "      <th>mixed</th>\n",
       "      <th>mixed_%</th>\n",
       "      <th>not_mixed_%</th>\n",
       "      <th>ratio</th>\n",
       "    </tr>\n",
       "    <tr>\n",
       "      <th>breed_primary</th>\n",
       "      <th></th>\n",
       "      <th></th>\n",
       "      <th></th>\n",
       "      <th></th>\n",
       "      <th></th>\n",
       "    </tr>\n",
       "  </thead>\n",
       "  <tbody>\n",
       "    <tr>\n",
       "      <th>Affenpinscher</th>\n",
       "      <td>12.0</td>\n",
       "      <td>5.0</td>\n",
       "      <td>29.4</td>\n",
       "      <td>70.6</td>\n",
       "      <td>0.42</td>\n",
       "    </tr>\n",
       "    <tr>\n",
       "      <th>Afghan Hound</th>\n",
       "      <td>0.0</td>\n",
       "      <td>4.0</td>\n",
       "      <td>100.0</td>\n",
       "      <td>0.0</td>\n",
       "      <td>inf</td>\n",
       "    </tr>\n",
       "    <tr>\n",
       "      <th>Airedale Terrier</th>\n",
       "      <td>2.0</td>\n",
       "      <td>17.0</td>\n",
       "      <td>89.5</td>\n",
       "      <td>10.5</td>\n",
       "      <td>8.50</td>\n",
       "    </tr>\n",
       "    <tr>\n",
       "      <th>Akbash</th>\n",
       "      <td>1.0</td>\n",
       "      <td>2.0</td>\n",
       "      <td>66.7</td>\n",
       "      <td>33.3</td>\n",
       "      <td>2.00</td>\n",
       "    </tr>\n",
       "    <tr>\n",
       "      <th>Akita</th>\n",
       "      <td>98.0</td>\n",
       "      <td>83.0</td>\n",
       "      <td>45.9</td>\n",
       "      <td>54.1</td>\n",
       "      <td>0.85</td>\n",
       "    </tr>\n",
       "    <tr>\n",
       "      <th>...</th>\n",
       "      <td>...</td>\n",
       "      <td>...</td>\n",
       "      <td>...</td>\n",
       "      <td>...</td>\n",
       "      <td>...</td>\n",
       "    </tr>\n",
       "    <tr>\n",
       "      <th>Wirehaired Pointing Griffon</th>\n",
       "      <td>0.0</td>\n",
       "      <td>1.0</td>\n",
       "      <td>100.0</td>\n",
       "      <td>0.0</td>\n",
       "      <td>inf</td>\n",
       "    </tr>\n",
       "    <tr>\n",
       "      <th>Wirehaired Terrier</th>\n",
       "      <td>15.0</td>\n",
       "      <td>45.0</td>\n",
       "      <td>75.0</td>\n",
       "      <td>25.0</td>\n",
       "      <td>3.00</td>\n",
       "    </tr>\n",
       "    <tr>\n",
       "      <th>Xoloitzcuintli / Mexican Hairless</th>\n",
       "      <td>6.0</td>\n",
       "      <td>5.0</td>\n",
       "      <td>45.5</td>\n",
       "      <td>54.5</td>\n",
       "      <td>0.83</td>\n",
       "    </tr>\n",
       "    <tr>\n",
       "      <th>Yellow Labrador Retriever</th>\n",
       "      <td>36.0</td>\n",
       "      <td>122.0</td>\n",
       "      <td>77.2</td>\n",
       "      <td>22.8</td>\n",
       "      <td>3.39</td>\n",
       "    </tr>\n",
       "    <tr>\n",
       "      <th>Yorkshire Terrier</th>\n",
       "      <td>157.0</td>\n",
       "      <td>203.0</td>\n",
       "      <td>56.4</td>\n",
       "      <td>43.6</td>\n",
       "      <td>1.29</td>\n",
       "    </tr>\n",
       "  </tbody>\n",
       "</table>\n",
       "<p>216 rows × 5 columns</p>\n",
       "</div>"
      ],
      "text/plain": [
       "                                   not_mixed  mixed  mixed_%  not_mixed_%  \\\n",
       "breed_primary                                                               \n",
       "Affenpinscher                           12.0    5.0     29.4         70.6   \n",
       "Afghan Hound                             0.0    4.0    100.0          0.0   \n",
       "Airedale Terrier                         2.0   17.0     89.5         10.5   \n",
       "Akbash                                   1.0    2.0     66.7         33.3   \n",
       "Akita                                   98.0   83.0     45.9         54.1   \n",
       "...                                      ...    ...      ...          ...   \n",
       "Wirehaired Pointing Griffon              0.0    1.0    100.0          0.0   \n",
       "Wirehaired Terrier                      15.0   45.0     75.0         25.0   \n",
       "Xoloitzcuintli / Mexican Hairless        6.0    5.0     45.5         54.5   \n",
       "Yellow Labrador Retriever               36.0  122.0     77.2         22.8   \n",
       "Yorkshire Terrier                      157.0  203.0     56.4         43.6   \n",
       "\n",
       "                                   ratio  \n",
       "breed_primary                             \n",
       "Affenpinscher                       0.42  \n",
       "Afghan Hound                         inf  \n",
       "Airedale Terrier                    8.50  \n",
       "Akbash                              2.00  \n",
       "Akita                               0.85  \n",
       "...                                  ...  \n",
       "Wirehaired Pointing Griffon          inf  \n",
       "Wirehaired Terrier                  3.00  \n",
       "Xoloitzcuintli / Mexican Hairless   0.83  \n",
       "Yellow Labrador Retriever           3.39  \n",
       "Yorkshire Terrier                   1.29  \n",
       "\n",
       "[216 rows x 5 columns]"
      ]
     },
     "execution_count": 163,
     "metadata": {},
     "output_type": "execute_result"
    }
   ],
   "source": [
    "breed_tab[\"mixed_%\"] = round(100 * breed_tab[\"mixed\"] / (breed_tab[\"mixed\"] + breed_tab[\"not_mixed\"]), 1)\n",
    "breed_tab[\"not_mixed_%\"] = round(100 * breed_tab[\"not_mixed\"] / (breed_tab[\"mixed\"] + breed_tab[\"not_mixed\"]), 1)\n",
    "breed_tab[\"ratio\"] = round(breed_tab[\"mixed\"] / breed_tab[\"not_mixed\"], 2)\n",
    "breed_tab"
   ]
  },
  {
   "cell_type": "markdown",
   "id": "f94c4aed-9490-440d-af7e-744ed71e6819",
   "metadata": {
    "id": "f94c4aed-9490-440d-af7e-744ed71e6819"
   },
   "source": [
    "### 4. For each (primary) breed, determine the earliest and the latest `posted` timestamp.\n",
    "\n"
   ]
  },
  {
   "cell_type": "code",
   "execution_count": 245,
   "id": "b2609804",
   "metadata": {
    "id": "b2609804"
   },
   "outputs": [
    {
     "data": {
      "text/html": [
       "<div>\n",
       "<style scoped>\n",
       "    .dataframe tbody tr th:only-of-type {\n",
       "        vertical-align: middle;\n",
       "    }\n",
       "\n",
       "    .dataframe tbody tr th {\n",
       "        vertical-align: top;\n",
       "    }\n",
       "\n",
       "    .dataframe thead th {\n",
       "        text-align: right;\n",
       "    }\n",
       "</style>\n",
       "<table border=\"1\" class=\"dataframe\">\n",
       "  <thead>\n",
       "    <tr style=\"text-align: right;\">\n",
       "      <th></th>\n",
       "      <th>erliest_posted_timestamp</th>\n",
       "      <th>latest_posted_timestamp</th>\n",
       "    </tr>\n",
       "    <tr>\n",
       "      <th>breed_primary</th>\n",
       "      <th></th>\n",
       "      <th></th>\n",
       "    </tr>\n",
       "  </thead>\n",
       "  <tbody>\n",
       "    <tr>\n",
       "      <th>Affenpinscher</th>\n",
       "      <td>2012-03-08 10:27:33+00:00</td>\n",
       "      <td>2019-09-14 10:10:51+00:00</td>\n",
       "    </tr>\n",
       "    <tr>\n",
       "      <th>Afghan Hound</th>\n",
       "      <td>2017-06-29 23:28:51+00:00</td>\n",
       "      <td>2019-07-27 00:38:48+00:00</td>\n",
       "    </tr>\n",
       "    <tr>\n",
       "      <th>Airedale Terrier</th>\n",
       "      <td>2014-06-13 12:59:36+00:00</td>\n",
       "      <td>2019-09-19 18:40:39+00:00</td>\n",
       "    </tr>\n",
       "    <tr>\n",
       "      <th>Akbash</th>\n",
       "      <td>2019-07-21 00:35:59+00:00</td>\n",
       "      <td>2019-08-23 17:11:04+00:00</td>\n",
       "    </tr>\n",
       "    <tr>\n",
       "      <th>Akita</th>\n",
       "      <td>2012-03-03 09:31:08+00:00</td>\n",
       "      <td>2019-09-20 15:19:57+00:00</td>\n",
       "    </tr>\n",
       "    <tr>\n",
       "      <th>...</th>\n",
       "      <td>...</td>\n",
       "      <td>...</td>\n",
       "    </tr>\n",
       "    <tr>\n",
       "      <th>Wirehaired Pointing Griffon</th>\n",
       "      <td>2016-06-29 20:03:55+00:00</td>\n",
       "      <td>2016-06-29 20:03:55+00:00</td>\n",
       "    </tr>\n",
       "    <tr>\n",
       "      <th>Wirehaired Terrier</th>\n",
       "      <td>2012-11-27 14:07:54+00:00</td>\n",
       "      <td>2019-09-19 22:52:45+00:00</td>\n",
       "    </tr>\n",
       "    <tr>\n",
       "      <th>Xoloitzcuintli / Mexican Hairless</th>\n",
       "      <td>2007-02-01 00:00:00+00:00</td>\n",
       "      <td>2019-09-08 11:15:54+00:00</td>\n",
       "    </tr>\n",
       "    <tr>\n",
       "      <th>Yellow Labrador Retriever</th>\n",
       "      <td>2010-05-31 00:00:00+00:00</td>\n",
       "      <td>2019-09-20 06:30:27+00:00</td>\n",
       "    </tr>\n",
       "    <tr>\n",
       "      <th>Yorkshire Terrier</th>\n",
       "      <td>2012-02-04 17:14:52+00:00</td>\n",
       "      <td>2019-09-20 16:56:38+00:00</td>\n",
       "    </tr>\n",
       "  </tbody>\n",
       "</table>\n",
       "<p>216 rows × 2 columns</p>\n",
       "</div>"
      ],
      "text/plain": [
       "                                   erliest_posted_timestamp  \\\n",
       "breed_primary                                                 \n",
       "Affenpinscher                     2012-03-08 10:27:33+00:00   \n",
       "Afghan Hound                      2017-06-29 23:28:51+00:00   \n",
       "Airedale Terrier                  2014-06-13 12:59:36+00:00   \n",
       "Akbash                            2019-07-21 00:35:59+00:00   \n",
       "Akita                             2012-03-03 09:31:08+00:00   \n",
       "...                                                     ...   \n",
       "Wirehaired Pointing Griffon       2016-06-29 20:03:55+00:00   \n",
       "Wirehaired Terrier                2012-11-27 14:07:54+00:00   \n",
       "Xoloitzcuintli / Mexican Hairless 2007-02-01 00:00:00+00:00   \n",
       "Yellow Labrador Retriever         2010-05-31 00:00:00+00:00   \n",
       "Yorkshire Terrier                 2012-02-04 17:14:52+00:00   \n",
       "\n",
       "                                     latest_posted_timestamp  \n",
       "breed_primary                                                 \n",
       "Affenpinscher                      2019-09-14 10:10:51+00:00  \n",
       "Afghan Hound                       2019-07-27 00:38:48+00:00  \n",
       "Airedale Terrier                   2019-09-19 18:40:39+00:00  \n",
       "Akbash                             2019-08-23 17:11:04+00:00  \n",
       "Akita                              2019-09-20 15:19:57+00:00  \n",
       "...                                                      ...  \n",
       "Wirehaired Pointing Griffon        2016-06-29 20:03:55+00:00  \n",
       "Wirehaired Terrier                 2019-09-19 22:52:45+00:00  \n",
       "Xoloitzcuintli / Mexican Hairless  2019-09-08 11:15:54+00:00  \n",
       "Yellow Labrador Retriever          2019-09-20 06:30:27+00:00  \n",
       "Yorkshire Terrier                  2019-09-20 16:56:38+00:00  \n",
       "\n",
       "[216 rows x 2 columns]"
      ]
     },
     "execution_count": 245,
     "metadata": {},
     "output_type": "execute_result"
    }
   ],
   "source": [
    "dog.posted = pd.to_datetime(dog.posted)\n",
    "time_tab = dog.groupby('breed_primary')[['posted']].min()\n",
    "time_tab['postedmin'] = dog.groupby('breed_primary')[['posted']].max()\n",
    "time_tab.columns = ['erliest_posted_timestamp', 'latest_posted_timestamp']\n",
    "time_tab"
   ]
  },
  {
   "cell_type": "markdown",
   "id": "db828c77-9432-4533-9695-e45ec86dc885",
   "metadata": {
    "id": "db828c77-9432-4533-9695-e45ec86dc885"
   },
   "source": [
    "### 5. For each state, compute the sex imbalance, that is the difference between male and female dogs. In which state this imbalance is largest?"
   ]
  },
  {
   "cell_type": "code",
   "execution_count": 244,
   "id": "036ecf4a",
   "metadata": {
    "id": "036ecf4a",
    "outputId": "daadbf9f-4e17-46a1-9910-c13285cb4a47",
    "scrolled": false
   },
   "outputs": [
    {
     "data": {
      "text/html": [
       "<div>\n",
       "<style scoped>\n",
       "    .dataframe tbody tr th:only-of-type {\n",
       "        vertical-align: middle;\n",
       "    }\n",
       "\n",
       "    .dataframe tbody tr th {\n",
       "        vertical-align: top;\n",
       "    }\n",
       "\n",
       "    .dataframe thead th {\n",
       "        text-align: right;\n",
       "    }\n",
       "</style>\n",
       "<table border=\"1\" class=\"dataframe\">\n",
       "  <thead>\n",
       "    <tr style=\"text-align: right;\">\n",
       "      <th>sex</th>\n",
       "      <th>Female</th>\n",
       "      <th>Male</th>\n",
       "      <th>Unknown</th>\n",
       "      <th>sex_imbalance</th>\n",
       "    </tr>\n",
       "    <tr>\n",
       "      <th>contact_state</th>\n",
       "      <th></th>\n",
       "      <th></th>\n",
       "      <th></th>\n",
       "      <th></th>\n",
       "    </tr>\n",
       "  </thead>\n",
       "  <tbody>\n",
       "    <tr>\n",
       "      <th>AK</th>\n",
       "      <td>7.0</td>\n",
       "      <td>8.0</td>\n",
       "      <td>0.0</td>\n",
       "      <td>1.0</td>\n",
       "    </tr>\n",
       "    <tr>\n",
       "      <th>AL</th>\n",
       "      <td>716.0</td>\n",
       "      <td>712.0</td>\n",
       "      <td>0.0</td>\n",
       "      <td>-4.0</td>\n",
       "    </tr>\n",
       "    <tr>\n",
       "      <th>AR</th>\n",
       "      <td>351.0</td>\n",
       "      <td>344.0</td>\n",
       "      <td>0.0</td>\n",
       "      <td>-7.0</td>\n",
       "    </tr>\n",
       "    <tr>\n",
       "      <th>AZ</th>\n",
       "      <td>1067.0</td>\n",
       "      <td>1181.0</td>\n",
       "      <td>1.0</td>\n",
       "      <td>114.0</td>\n",
       "    </tr>\n",
       "    <tr>\n",
       "      <th>CA</th>\n",
       "      <td>777.0</td>\n",
       "      <td>887.0</td>\n",
       "      <td>0.0</td>\n",
       "      <td>110.0</td>\n",
       "    </tr>\n",
       "  </tbody>\n",
       "</table>\n",
       "</div>"
      ],
      "text/plain": [
       "sex            Female    Male  Unknown  sex_imbalance\n",
       "contact_state                                        \n",
       "AK                7.0     8.0      0.0            1.0\n",
       "AL              716.0   712.0      0.0           -4.0\n",
       "AR              351.0   344.0      0.0           -7.0\n",
       "AZ             1067.0  1181.0      1.0          114.0\n",
       "CA              777.0   887.0      0.0          110.0"
      ]
     },
     "execution_count": 244,
     "metadata": {},
     "output_type": "execute_result"
    }
   ],
   "source": [
    "state_tab = dog.groupby(['contact_state','sex'])['id'].count()\n",
    "state_tab = state_tab.unstack()\n",
    "state_tab[np.isnan(state_tab)] = 0\n",
    "state_tab[\"sex_imbalance\"] = state_tab[\"Male\"] - state_tab[\"Female\"]\n",
    "state_tab.head()"
   ]
  },
  {
   "cell_type": "code",
   "execution_count": 242,
   "id": "47a27e89",
   "metadata": {},
   "outputs": [
    {
     "name": "stdout",
     "output_type": "stream",
     "text": [
      "The state with the highest sex imbalance is Ohio.\n"
     ]
    },
    {
     "data": {
      "text/html": [
       "<div>\n",
       "<style scoped>\n",
       "    .dataframe tbody tr th:only-of-type {\n",
       "        vertical-align: middle;\n",
       "    }\n",
       "\n",
       "    .dataframe tbody tr th {\n",
       "        vertical-align: top;\n",
       "    }\n",
       "\n",
       "    .dataframe thead th {\n",
       "        text-align: right;\n",
       "    }\n",
       "</style>\n",
       "<table border=\"1\" class=\"dataframe\">\n",
       "  <thead>\n",
       "    <tr style=\"text-align: right;\">\n",
       "      <th>sex</th>\n",
       "      <th>Female</th>\n",
       "      <th>Male</th>\n",
       "      <th>Unknown</th>\n",
       "      <th>sex_imbalance</th>\n",
       "    </tr>\n",
       "    <tr>\n",
       "      <th>contact_state</th>\n",
       "      <th></th>\n",
       "      <th></th>\n",
       "      <th></th>\n",
       "      <th></th>\n",
       "    </tr>\n",
       "  </thead>\n",
       "  <tbody>\n",
       "    <tr>\n",
       "      <th>OH</th>\n",
       "      <td>1234.0</td>\n",
       "      <td>1439.0</td>\n",
       "      <td>0.0</td>\n",
       "      <td>205.0</td>\n",
       "    </tr>\n",
       "  </tbody>\n",
       "</table>\n",
       "</div>"
      ],
      "text/plain": [
       "sex            Female    Male  Unknown  sex_imbalance\n",
       "contact_state                                        \n",
       "OH             1234.0  1439.0      0.0          205.0"
      ]
     },
     "execution_count": 242,
     "metadata": {},
     "output_type": "execute_result"
    }
   ],
   "source": [
    "print(\"The state with the highest sex imbalance is Ohio.\")\n",
    "state_tab.loc[state_tab[\"sex_imbalance\"] == state_tab[\"sex_imbalance\"].max()]"
   ]
  },
  {
   "cell_type": "markdown",
   "id": "2bf98f50-14b1-4a48-9906-c71e614789c5",
   "metadata": {
    "id": "2bf98f50-14b1-4a48-9906-c71e614789c5"
   },
   "source": [
    "### 6. For each pair (age, size), determine the average duration of the stay and the average cost of stay."
   ]
  },
  {
   "cell_type": "code",
   "execution_count": 274,
   "id": "6gN2pgHNxvJ5",
   "metadata": {
    "colab": {
     "base_uri": "https://localhost:8080/",
     "height": 158
    },
    "id": "6gN2pgHNxvJ5",
    "outputId": "410ebfd5-87a4-4502-85d6-ad6a4d9b36dd"
   },
   "outputs": [
    {
     "data": {
      "text/html": [
       "<div>\n",
       "<style scoped>\n",
       "    .dataframe tbody tr th:only-of-type {\n",
       "        vertical-align: middle;\n",
       "    }\n",
       "\n",
       "    .dataframe tbody tr th {\n",
       "        vertical-align: top;\n",
       "    }\n",
       "\n",
       "    .dataframe thead th {\n",
       "        text-align: right;\n",
       "    }\n",
       "</style>\n",
       "<table border=\"1\" class=\"dataframe\">\n",
       "  <thead>\n",
       "    <tr style=\"text-align: right;\">\n",
       "      <th></th>\n",
       "      <th>age</th>\n",
       "      <th>size</th>\n",
       "      <th>stay_duration</th>\n",
       "      <th>stay_cost</th>\n",
       "    </tr>\n",
       "  </thead>\n",
       "  <tbody>\n",
       "    <tr>\n",
       "      <th>0</th>\n",
       "      <td>Adult</td>\n",
       "      <td>Extra Large</td>\n",
       "      <td>89.02</td>\n",
       "      <td>232.59</td>\n",
       "    </tr>\n",
       "    <tr>\n",
       "      <th>1</th>\n",
       "      <td>Adult</td>\n",
       "      <td>Large</td>\n",
       "      <td>89.53</td>\n",
       "      <td>238.66</td>\n",
       "    </tr>\n",
       "    <tr>\n",
       "      <th>2</th>\n",
       "      <td>Adult</td>\n",
       "      <td>Medium</td>\n",
       "      <td>89.42</td>\n",
       "      <td>238.26</td>\n",
       "    </tr>\n",
       "    <tr>\n",
       "      <th>3</th>\n",
       "      <td>Adult</td>\n",
       "      <td>Small</td>\n",
       "      <td>89.41</td>\n",
       "      <td>238.97</td>\n",
       "    </tr>\n",
       "    <tr>\n",
       "      <th>4</th>\n",
       "      <td>Baby</td>\n",
       "      <td>Extra Large</td>\n",
       "      <td>87.03</td>\n",
       "      <td>237.18</td>\n",
       "    </tr>\n",
       "    <tr>\n",
       "      <th>5</th>\n",
       "      <td>Baby</td>\n",
       "      <td>Large</td>\n",
       "      <td>89.70</td>\n",
       "      <td>238.70</td>\n",
       "    </tr>\n",
       "    <tr>\n",
       "      <th>6</th>\n",
       "      <td>Baby</td>\n",
       "      <td>Medium</td>\n",
       "      <td>89.58</td>\n",
       "      <td>237.11</td>\n",
       "    </tr>\n",
       "    <tr>\n",
       "      <th>7</th>\n",
       "      <td>Baby</td>\n",
       "      <td>Small</td>\n",
       "      <td>89.96</td>\n",
       "      <td>239.08</td>\n",
       "    </tr>\n",
       "    <tr>\n",
       "      <th>8</th>\n",
       "      <td>Senior</td>\n",
       "      <td>Extra Large</td>\n",
       "      <td>88.86</td>\n",
       "      <td>235.23</td>\n",
       "    </tr>\n",
       "    <tr>\n",
       "      <th>9</th>\n",
       "      <td>Senior</td>\n",
       "      <td>Large</td>\n",
       "      <td>88.98</td>\n",
       "      <td>237.51</td>\n",
       "    </tr>\n",
       "    <tr>\n",
       "      <th>10</th>\n",
       "      <td>Senior</td>\n",
       "      <td>Medium</td>\n",
       "      <td>89.81</td>\n",
       "      <td>238.51</td>\n",
       "    </tr>\n",
       "    <tr>\n",
       "      <th>11</th>\n",
       "      <td>Senior</td>\n",
       "      <td>Small</td>\n",
       "      <td>89.07</td>\n",
       "      <td>238.28</td>\n",
       "    </tr>\n",
       "    <tr>\n",
       "      <th>12</th>\n",
       "      <td>Young</td>\n",
       "      <td>Extra Large</td>\n",
       "      <td>90.59</td>\n",
       "      <td>245.84</td>\n",
       "    </tr>\n",
       "    <tr>\n",
       "      <th>13</th>\n",
       "      <td>Young</td>\n",
       "      <td>Large</td>\n",
       "      <td>90.10</td>\n",
       "      <td>238.15</td>\n",
       "    </tr>\n",
       "    <tr>\n",
       "      <th>14</th>\n",
       "      <td>Young</td>\n",
       "      <td>Medium</td>\n",
       "      <td>89.52</td>\n",
       "      <td>239.30</td>\n",
       "    </tr>\n",
       "    <tr>\n",
       "      <th>15</th>\n",
       "      <td>Young</td>\n",
       "      <td>Small</td>\n",
       "      <td>89.81</td>\n",
       "      <td>241.54</td>\n",
       "    </tr>\n",
       "  </tbody>\n",
       "</table>\n",
       "</div>"
      ],
      "text/plain": [
       "       age         size  stay_duration  stay_cost\n",
       "0    Adult  Extra Large          89.02     232.59\n",
       "1    Adult        Large          89.53     238.66\n",
       "2    Adult       Medium          89.42     238.26\n",
       "3    Adult        Small          89.41     238.97\n",
       "4     Baby  Extra Large          87.03     237.18\n",
       "5     Baby        Large          89.70     238.70\n",
       "6     Baby       Medium          89.58     237.11\n",
       "7     Baby        Small          89.96     239.08\n",
       "8   Senior  Extra Large          88.86     235.23\n",
       "9   Senior        Large          88.98     237.51\n",
       "10  Senior       Medium          89.81     238.51\n",
       "11  Senior        Small          89.07     238.28\n",
       "12   Young  Extra Large          90.59     245.84\n",
       "13   Young        Large          90.10     238.15\n",
       "14   Young       Medium          89.52     239.30\n",
       "15   Young        Small          89.81     241.54"
      ]
     },
     "execution_count": 274,
     "metadata": {},
     "output_type": "execute_result"
    }
   ],
   "source": [
    "round(dog.groupby(['age','size'], as_index=False)[['stay_duration','stay_cost']].mean(), 2)"
   ]
  },
  {
   "cell_type": "markdown",
   "id": "b473c62b-ed47-41b4-9de9-38999c6c6427",
   "metadata": {
    "id": "b473c62b-ed47-41b4-9de9-38999c6c6427"
   },
   "source": [
    "### 7. Find the dogs involved in at least 3 travels. Also list the breed of those dogs."
   ]
  },
  {
   "cell_type": "markdown",
   "id": "9af8db3f-9440-45f3-ab0a-7816a2f07eff",
   "metadata": {
    "id": "9af8db3f-9440-45f3-ab0a-7816a2f07eff"
   },
   "source": [
    "### 8. Fix the `travels` table so that the correct state is computed from  the `manual` and the `found` fields. If `manual` is not missing, then it overrides what is stored in `found`."
   ]
  },
  {
   "cell_type": "markdown",
   "id": "58b8ebc7-d50d-4718-9bfa-1a2f95679eba",
   "metadata": {
    "id": "58b8ebc7-d50d-4718-9bfa-1a2f95679eba"
   },
   "source": [
    "### 9. For each state, compute the ratio between the number of travels and the population."
   ]
  },
  {
   "cell_type": "markdown",
   "id": "2ac557be-0433-4c65-9e17-b10775e96d31",
   "metadata": {
    "id": "2ac557be-0433-4c65-9e17-b10775e96d31"
   },
   "source": [
    "### 10. For each dog, compute the number of days from the `posted` day to the day of last access."
   ]
  },
  {
   "cell_type": "markdown",
   "id": "c7f19f9e-ee36-4c50-a0d4-d36bd8135f7f",
   "metadata": {
    "id": "c7f19f9e-ee36-4c50-a0d4-d36bd8135f7f"
   },
   "source": [
    "### 11. Partition the dogs according to the number of weeks from the `posted` day to the day of last access."
   ]
  },
  {
   "cell_type": "markdown",
   "id": "59f24e67-8828-435d-9d91-56559f78cb10",
   "metadata": {
    "id": "59f24e67-8828-435d-9d91-56559f78cb10"
   },
   "source": [
    "### 12. Find for duplicates in the `dogs` dataset. Two records are duplicates if they have (1) same breeds and sex, and (2) they share at least 90% of the words in the description field. Extra points if you find and implement a more refined for determining if two rows are duplicates."
   ]
  },
  {
   "cell_type": "code",
   "execution_count": 14,
   "id": "d7a828d1",
   "metadata": {},
   "outputs": [
    {
     "ename": "SyntaxError",
     "evalue": "invalid syntax (<ipython-input-14-8aa4f9aeeca6>, line 1)",
     "output_type": "error",
     "traceback": [
      "\u001b[1;36m  File \u001b[1;32m\"<ipython-input-14-8aa4f9aeeca6>\"\u001b[1;36m, line \u001b[1;32m1\u001b[0m\n\u001b[1;33m    pip install gingerit\u001b[0m\n\u001b[1;37m        ^\u001b[0m\n\u001b[1;31mSyntaxError\u001b[0m\u001b[1;31m:\u001b[0m invalid syntax\n"
     ]
    }
   ],
   "source": [
    "pip install gingerit"
   ]
  },
  {
   "cell_type": "code",
   "execution_count": 15,
   "id": "359197d8",
   "metadata": {},
   "outputs": [
    {
     "name": "stdout",
     "output_type": "stream",
     "text": [
      "Collecting ftfy\n",
      "  Downloading ftfy-6.1.1-py3-none-any.whl (53 kB)\n",
      "Requirement already satisfied: wcwidth>=0.2.5 in c:\\users\\macor\\anaconda3\\lib\\site-packages (from ftfy) (0.2.5)\n",
      "Installing collected packages: ftfy\n",
      "Successfully installed ftfy-6.1.1\n",
      "Note: you may need to restart the kernel to use updated packages.\n"
     ]
    }
   ],
   "source": [
    "pip install ftfy"
   ]
  },
  {
   "cell_type": "code",
   "execution_count": 5,
   "id": "6fa9ccbc",
   "metadata": {},
   "outputs": [
    {
     "data": {
      "text/plain": [
       "'â\\x80¢Basset Hound, female, â\\x80¢10 years \\n\\nDelightful Daisy is a friendly girl looking for a retirement home! Daisy is a spry 10 who greets people with a wagging tail and a hop so it is easy to pet her. She also enjoys walks, snuggling on the couch, and treats, not necessarily in that order. Daisy is a loved pet who will be missed, but she does not enjoy living with young children, and two have joined the family. Daisy is happy to leave them alone but the children are young and humans are not as easy to train as a dog is. Daisy does live with another dog but can be protective of her food, and may be happiest as an only dog, unless the family is prepared to manage the dogs. Daisy is much more about people than other dogs. Daisy has never lived with cats, but does have the hound part of Basset Hound in full, and likes to chase small fuzzy creatures in the yard, so we suspect it would not go well. She is open to meeting a cat though to see if our theory is correct. Daisy will be staying with her family until a new home is found, but applications can be filled out through Peppertree, and we will forward them on to her family.\\n\\n\\n** If you are interested in adopting this dog, you must first complete an adoption application at http://peppertree.org/adoptapp.php. Or visit our site (http://peppertree.org/adoptlist.php) and learn about other Peppertree dogs. *Note: visual breed identification in dogs is unreliable so for most of the dogs we are only guessing at predominant breed or breed mix. We get to know each dog as an individual and will do our best to describe each of our dogs based on personality, not by breed label.'"
      ]
     },
     "execution_count": 5,
     "metadata": {},
     "output_type": "execute_result"
    }
   ],
   "source": [
    " prova = dog.loc[12495].at[\"description\"]"
   ]
  },
  {
   "cell_type": "code",
   "execution_count": 21,
   "id": "cc2ab8b0",
   "metadata": {},
   "outputs": [
    {
     "data": {
      "text/plain": [
       "'•Basset Hound, female, •10 years \\n\\nDelightful Daisy is a friendly girl looking for a retirement home! Daisy is a spry 10 who greets people with a wagging tail and a hop so it is easy to pet her. She also enjoys walks, snuggling on the couch, and treats, not necessarily in that order. Daisy is a loved pet who will be missed, but she does not enjoy living with young children, and two have joined the family. Daisy is happy to leave them alone but the children are young and humans are not as easy to train as a dog is. Daisy does live with another dog but can be protective of her food, and may be happiest as an only dog, unless the family is prepared to manage the dogs. Daisy is much more about people than other dogs. Daisy has never lived with cats, but does have the hound part of Basset Hound in full, and likes to chase small fuzzy creatures in the yard, so we suspect it would not go well. She is open to meeting a cat though to see if our theory is correct. Daisy will be staying with her family until a new home is found, but applications can be filled out through Peppertree, and we will forward them on to her family.\\n\\n\\n** If you are interested in adopting this dog, you must first complete an adoption application at http://peppertree.org/adoptapp.php. Or visit our site (http://peppertree.org/adoptlist.php) and learn about other Peppertree dogs. *Note: visual breed identification in dogs is unreliable so for most of the dogs we are only guessing at predominant breed or breed mix. We get to know each dog as an individual and will do our best to describe each of our dogs based on personality, not by breed label.'"
      ]
     },
     "execution_count": 21,
     "metadata": {},
     "output_type": "execute_result"
    }
   ],
   "source": [
    "from ftfy import fix_encoding\n",
    "from ftfy import fix_text\n",
    "prova = dog.loc[12495].at[\"description\"]\n",
    "fix_text(prova)"
   ]
  },
  {
   "cell_type": "code",
   "execution_count": 4,
   "id": "6ee32b44",
   "metadata": {},
   "outputs": [
    {
     "name": "stdout",
     "output_type": "stream",
     "text": [
      "Collecting spacy\n",
      "  Downloading spacy-3.4.3-cp38-cp38-win_amd64.whl (12.2 MB)\n",
      "Requirement already satisfied: numpy>=1.15.0 in c:\\users\\macor\\anaconda3\\lib\\site-packages (from spacy) (1.20.1)\n",
      "Collecting murmurhash<1.1.0,>=0.28.0\n",
      "  Downloading murmurhash-1.0.9-cp38-cp38-win_amd64.whl (18 kB)\n",
      "Requirement already satisfied: jinja2 in c:\\users\\macor\\anaconda3\\lib\\site-packages (from spacy) (2.11.3)\n",
      "Collecting typer<0.8.0,>=0.3.0\n",
      "  Downloading typer-0.7.0-py3-none-any.whl (38 kB)\n",
      "Requirement already satisfied: setuptools in c:\\users\\macor\\anaconda3\\lib\\site-packages (from spacy) (52.0.0.post20210125)\n",
      "Collecting thinc<8.2.0,>=8.1.0\n",
      "  Downloading thinc-8.1.5-cp38-cp38-win_amd64.whl (1.3 MB)\n",
      "Collecting preshed<3.1.0,>=3.0.2\n",
      "  Downloading preshed-3.0.8-cp38-cp38-win_amd64.whl (96 kB)\n",
      "Collecting wasabi<1.1.0,>=0.9.1\n",
      "  Downloading wasabi-0.10.1-py3-none-any.whl (26 kB)\n",
      "Requirement already satisfied: requests<3.0.0,>=2.13.0 in c:\\users\\macor\\anaconda3\\lib\\site-packages (from spacy) (2.25.1)\n",
      "Collecting srsly<3.0.0,>=2.4.3\n",
      "  Downloading srsly-2.4.5-cp38-cp38-win_amd64.whl (481 kB)\n",
      "Requirement already satisfied: tqdm<5.0.0,>=4.38.0 in c:\\users\\macor\\anaconda3\\lib\\site-packages (from spacy) (4.59.0)\n",
      "Collecting pydantic!=1.8,!=1.8.1,<1.11.0,>=1.7.4\n",
      "  Downloading pydantic-1.10.2-cp38-cp38-win_amd64.whl (2.2 MB)\n",
      "Collecting langcodes<4.0.0,>=3.2.0\n",
      "  Downloading langcodes-3.3.0-py3-none-any.whl (181 kB)\n",
      "Requirement already satisfied: packaging>=20.0 in c:\\users\\macor\\anaconda3\\lib\\site-packages (from spacy) (20.9)\n",
      "Collecting catalogue<2.1.0,>=2.0.6\n",
      "  Downloading catalogue-2.0.8-py3-none-any.whl (17 kB)\n",
      "Collecting spacy-legacy<3.1.0,>=3.0.10\n",
      "  Downloading spacy_legacy-3.0.10-py2.py3-none-any.whl (21 kB)\n",
      "Collecting spacy-loggers<2.0.0,>=1.0.0\n",
      "  Downloading spacy_loggers-1.0.3-py3-none-any.whl (9.3 kB)\n",
      "Collecting pathy>=0.3.5\n",
      "  Downloading pathy-0.10.0-py3-none-any.whl (48 kB)\n",
      "Collecting cymem<2.1.0,>=2.0.2\n",
      "  Downloading cymem-2.0.7-cp38-cp38-win_amd64.whl (30 kB)\n",
      "Requirement already satisfied: pyparsing>=2.0.2 in c:\\users\\macor\\anaconda3\\lib\\site-packages (from packaging>=20.0->spacy) (2.4.7)\n",
      "Collecting smart-open<6.0.0,>=5.2.1\n",
      "  Downloading smart_open-5.2.1-py3-none-any.whl (58 kB)\n",
      "Collecting typing-extensions>=4.1.0\n",
      "  Downloading typing_extensions-4.4.0-py3-none-any.whl (26 kB)\n",
      "Requirement already satisfied: certifi>=2017.4.17 in c:\\users\\macor\\anaconda3\\lib\\site-packages (from requests<3.0.0,>=2.13.0->spacy) (2020.12.5)\n",
      "Requirement already satisfied: idna<3,>=2.5 in c:\\users\\macor\\anaconda3\\lib\\site-packages (from requests<3.0.0,>=2.13.0->spacy) (2.10)\n",
      "Requirement already satisfied: chardet<5,>=3.0.2 in c:\\users\\macor\\anaconda3\\lib\\site-packages (from requests<3.0.0,>=2.13.0->spacy) (4.0.0)\n",
      "Requirement already satisfied: urllib3<1.27,>=1.21.1 in c:\\users\\macor\\anaconda3\\lib\\site-packages (from requests<3.0.0,>=2.13.0->spacy) (1.26.4)\n",
      "Collecting blis<0.8.0,>=0.7.8\n",
      "  Downloading blis-0.7.9-cp38-cp38-win_amd64.whl (7.0 MB)\n",
      "Collecting confection<1.0.0,>=0.0.1\n",
      "  Downloading confection-0.0.3-py3-none-any.whl (32 kB)\n",
      "Requirement already satisfied: click<9.0.0,>=7.1.1 in c:\\users\\macor\\anaconda3\\lib\\site-packages (from typer<0.8.0,>=0.3.0->spacy) (7.1.2)\n",
      "Requirement already satisfied: MarkupSafe>=0.23 in c:\\users\\macor\\anaconda3\\lib\\site-packages (from jinja2->spacy) (1.1.1)\n",
      "Installing collected packages: typing-extensions, catalogue, srsly, pydantic, murmurhash, cymem, wasabi, typer, smart-open, preshed, confection, blis, thinc, spacy-loggers, spacy-legacy, pathy, langcodes, spacy\n",
      "  Attempting uninstall: typing-extensions\n",
      "    Found existing installation: typing-extensions 3.7.4.3\n",
      "    Uninstalling typing-extensions-3.7.4.3:\n",
      "      Successfully uninstalled typing-extensions-3.7.4.3\n",
      "Successfully installed blis-0.7.9 catalogue-2.0.8 confection-0.0.3 cymem-2.0.7 langcodes-3.3.0 murmurhash-1.0.9 pathy-0.10.0 preshed-3.0.8 pydantic-1.10.2 smart-open-5.2.1 spacy-3.4.3 spacy-legacy-3.0.10 spacy-loggers-1.0.3 srsly-2.4.5 thinc-8.1.5 typer-0.7.0 typing-extensions-4.4.0 wasabi-0.10.1\n",
      "Note: you may need to restart the kernel to use updated packages.\n"
     ]
    }
   ],
   "source": [
    "pip install spacy"
   ]
  },
  {
   "cell_type": "code",
   "execution_count": 6,
   "id": "190e2723",
   "metadata": {},
   "outputs": [
    {
     "name": "stdout",
     "output_type": "stream",
     "text": [
      "Collecting contextualSpellCheck\n",
      "  Downloading contextualSpellCheck-0.4.3-py3-none-any.whl (128 kB)\n",
      "Collecting torch>=1.4\n",
      "  Downloading torch-1.13.0-cp38-cp38-win_amd64.whl (167.3 MB)\n",
      "Collecting transformers>=4.0.0\n",
      "  Downloading transformers-4.25.1-py3-none-any.whl (5.8 MB)\n",
      "Collecting editdistance==0.6.0\n",
      "  Downloading editdistance-0.6.0-cp38-cp38-win_amd64.whl (24 kB)\n",
      "Requirement already satisfied: spacy>=3.0.0 in c:\\users\\macor\\anaconda3\\lib\\site-packages (from contextualSpellCheck) (3.4.3)\n",
      "Requirement already satisfied: spacy-loggers<2.0.0,>=1.0.0 in c:\\users\\macor\\anaconda3\\lib\\site-packages (from spacy>=3.0.0->contextualSpellCheck) (1.0.3)\n",
      "Requirement already satisfied: srsly<3.0.0,>=2.4.3 in c:\\users\\macor\\anaconda3\\lib\\site-packages (from spacy>=3.0.0->contextualSpellCheck) (2.4.5)\n",
      "Requirement already satisfied: langcodes<4.0.0,>=3.2.0 in c:\\users\\macor\\anaconda3\\lib\\site-packages (from spacy>=3.0.0->contextualSpellCheck) (3.3.0)\n",
      "Requirement already satisfied: typer<0.8.0,>=0.3.0 in c:\\users\\macor\\anaconda3\\lib\\site-packages (from spacy>=3.0.0->contextualSpellCheck) (0.7.0)\n",
      "Requirement already satisfied: setuptools in c:\\users\\macor\\anaconda3\\lib\\site-packages (from spacy>=3.0.0->contextualSpellCheck) (52.0.0.post20210125)\n",
      "Requirement already satisfied: jinja2 in c:\\users\\macor\\anaconda3\\lib\\site-packages (from spacy>=3.0.0->contextualSpellCheck) (2.11.3)\n",
      "Note: you may need to restart the kernel to use updated packages.\n",
      "Requirement already satisfied: spacy-legacy<3.1.0,>=3.0.10 in c:\\users\\macor\\anaconda3\\lib\\site-packages (from spacy>=3.0.0->contextualSpellCheck) (3.0.10)\n",
      "Requirement already satisfied: thinc<8.2.0,>=8.1.0 in c:\\users\\macor\\anaconda3\\lib\\site-packages (from spacy>=3.0.0->contextualSpellCheck) (8.1.5)\n",
      "Requirement already satisfied: pydantic!=1.8,!=1.8.1,<1.11.0,>=1.7.4 in c:\\users\\macor\\anaconda3\\lib\\site-packages (from spacy>=3.0.0->contextualSpellCheck) (1.10.2)\n",
      "Requirement already satisfied: requests<3.0.0,>=2.13.0 in c:\\users\\macor\\anaconda3\\lib\\site-packages (from spacy>=3.0.0->contextualSpellCheck) (2.25.1)\n",
      "Requirement already satisfied: cymem<2.1.0,>=2.0.2 in c:\\users\\macor\\anaconda3\\lib\\site-packages (from spacy>=3.0.0->contextualSpellCheck) (2.0.7)\n",
      "Requirement already satisfied: pathy>=0.3.5 in c:\\users\\macor\\anaconda3\\lib\\site-packages (from spacy>=3.0.0->contextualSpellCheck) (0.10.0)\n",
      "Requirement already satisfied: preshed<3.1.0,>=3.0.2 in c:\\users\\macor\\anaconda3\\lib\\site-packages (from spacy>=3.0.0->contextualSpellCheck) (3.0.8)\n",
      "Requirement already satisfied: numpy>=1.15.0 in c:\\users\\macor\\anaconda3\\lib\\site-packages (from spacy>=3.0.0->contextualSpellCheck) (1.20.1)\n",
      "Requirement already satisfied: wasabi<1.1.0,>=0.9.1 in c:\\users\\macor\\anaconda3\\lib\\site-packages (from spacy>=3.0.0->contextualSpellCheck) (0.10.1)\n",
      "Requirement already satisfied: packaging>=20.0 in c:\\users\\macor\\anaconda3\\lib\\site-packages (from spacy>=3.0.0->contextualSpellCheck) (20.9)\n",
      "Requirement already satisfied: tqdm<5.0.0,>=4.38.0 in c:\\users\\macor\\anaconda3\\lib\\site-packages (from spacy>=3.0.0->contextualSpellCheck) (4.59.0)\n",
      "Requirement already satisfied: murmurhash<1.1.0,>=0.28.0 in c:\\users\\macor\\anaconda3\\lib\\site-packages (from spacy>=3.0.0->contextualSpellCheck) (1.0.9)\n",
      "Requirement already satisfied: catalogue<2.1.0,>=2.0.6 in c:\\users\\macor\\anaconda3\\lib\\site-packages (from spacy>=3.0.0->contextualSpellCheck) (2.0.8)\n",
      "Requirement already satisfied: pyparsing>=2.0.2 in c:\\users\\macor\\anaconda3\\lib\\site-packages (from packaging>=20.0->spacy>=3.0.0->contextualSpellCheck) (2.4.7)\n",
      "Requirement already satisfied: smart-open<6.0.0,>=5.2.1 in c:\\users\\macor\\anaconda3\\lib\\site-packages (from pathy>=0.3.5->spacy>=3.0.0->contextualSpellCheck) (5.2.1)\n",
      "Requirement already satisfied: typing-extensions>=4.1.0 in c:\\users\\macor\\anaconda3\\lib\\site-packages (from pydantic!=1.8,!=1.8.1,<1.11.0,>=1.7.4->spacy>=3.0.0->contextualSpellCheck) (4.4.0)\n",
      "Requirement already satisfied: chardet<5,>=3.0.2 in c:\\users\\macor\\anaconda3\\lib\\site-packages (from requests<3.0.0,>=2.13.0->spacy>=3.0.0->contextualSpellCheck) (4.0.0)\n",
      "Requirement already satisfied: certifi>=2017.4.17 in c:\\users\\macor\\anaconda3\\lib\\site-packages (from requests<3.0.0,>=2.13.0->spacy>=3.0.0->contextualSpellCheck) (2020.12.5)\n",
      "Requirement already satisfied: urllib3<1.27,>=1.21.1 in c:\\users\\macor\\anaconda3\\lib\\site-packages (from requests<3.0.0,>=2.13.0->spacy>=3.0.0->contextualSpellCheck) (1.26.4)\n",
      "Requirement already satisfied: idna<3,>=2.5 in c:\\users\\macor\\anaconda3\\lib\\site-packages (from requests<3.0.0,>=2.13.0->spacy>=3.0.0->contextualSpellCheck) (2.10)\n",
      "Requirement already satisfied: blis<0.8.0,>=0.7.8 in c:\\users\\macor\\anaconda3\\lib\\site-packages (from thinc<8.2.0,>=8.1.0->spacy>=3.0.0->contextualSpellCheck) (0.7.9)\n",
      "Requirement already satisfied: confection<1.0.0,>=0.0.1 in c:\\users\\macor\\anaconda3\\lib\\site-packages (from thinc<8.2.0,>=8.1.0->spacy>=3.0.0->contextualSpellCheck) (0.0.3)\n",
      "Requirement already satisfied: pyyaml>=5.1 in c:\\users\\macor\\anaconda3\\lib\\site-packages (from transformers>=4.0.0->contextualSpellCheck) (5.4.1)\n",
      "Requirement already satisfied: filelock in c:\\users\\macor\\anaconda3\\lib\\site-packages (from transformers>=4.0.0->contextualSpellCheck) (3.0.12)\n",
      "Requirement already satisfied: regex!=2019.12.17 in c:\\users\\macor\\anaconda3\\lib\\site-packages (from transformers>=4.0.0->contextualSpellCheck) (2021.4.4)\n",
      "Collecting tokenizers!=0.11.3,<0.14,>=0.11.1\n",
      "  Downloading tokenizers-0.13.2-cp38-cp38-win_amd64.whl (3.3 MB)\n",
      "Collecting huggingface-hub<1.0,>=0.10.0\n",
      "  Downloading huggingface_hub-0.11.1-py3-none-any.whl (182 kB)\n",
      "Requirement already satisfied: click<9.0.0,>=7.1.1 in c:\\users\\macor\\anaconda3\\lib\\site-packages (from typer<0.8.0,>=0.3.0->spacy>=3.0.0->contextualSpellCheck) (7.1.2)\n",
      "Requirement already satisfied: MarkupSafe>=0.23 in c:\\users\\macor\\anaconda3\\lib\\site-packages (from jinja2->spacy>=3.0.0->contextualSpellCheck) (1.1.1)\n",
      "Installing collected packages: tokenizers, huggingface-hub, transformers, torch, editdistance, contextualSpellCheck\n",
      "Successfully installed contextualSpellCheck-0.4.3 editdistance-0.6.0 huggingface-hub-0.11.1 tokenizers-0.13.2 torch-1.13.0 transformers-4.25.1\n"
     ]
    }
   ],
   "source": [
    "pip install contextualSpellCheck"
   ]
  },
  {
   "cell_type": "code",
   "execution_count": 7,
   "id": "fdfb0ce4",
   "metadata": {},
   "outputs": [
    {
     "ename": "OSError",
     "evalue": "[E050] Can't find model 'en_core_web_sm'. It doesn't seem to be a Python package or a valid path to a data directory.",
     "output_type": "error",
     "traceback": [
      "\u001b[1;31m---------------------------------------------------------------------------\u001b[0m",
      "\u001b[1;31mOSError\u001b[0m                                   Traceback (most recent call last)",
      "\u001b[1;32m<ipython-input-7-13f1479aaa15>\u001b[0m in \u001b[0;36m<module>\u001b[1;34m\u001b[0m\n\u001b[0;32m      2\u001b[0m \u001b[1;32mimport\u001b[0m \u001b[0mcontextualSpellCheck\u001b[0m\u001b[1;33m\u001b[0m\u001b[1;33m\u001b[0m\u001b[0m\n\u001b[0;32m      3\u001b[0m \u001b[1;33m\u001b[0m\u001b[0m\n\u001b[1;32m----> 4\u001b[1;33m \u001b[0mnlp\u001b[0m \u001b[1;33m=\u001b[0m \u001b[0mspacy\u001b[0m\u001b[1;33m.\u001b[0m\u001b[0mload\u001b[0m\u001b[1;33m(\u001b[0m\u001b[1;34m'en_core_web_sm'\u001b[0m\u001b[1;33m)\u001b[0m\u001b[1;33m\u001b[0m\u001b[1;33m\u001b[0m\u001b[0m\n\u001b[0m\u001b[0;32m      5\u001b[0m \u001b[0mcontextualSpellCheck\u001b[0m\u001b[1;33m.\u001b[0m\u001b[0madd_to_pipe\u001b[0m\u001b[1;33m(\u001b[0m\u001b[0mnlp\u001b[0m\u001b[1;33m)\u001b[0m\u001b[1;33m\u001b[0m\u001b[1;33m\u001b[0m\u001b[0m\n\u001b[0;32m      6\u001b[0m \u001b[0mdoc\u001b[0m \u001b[1;33m=\u001b[0m \u001b[0mnlp\u001b[0m\u001b[1;33m(\u001b[0m\u001b[1;34m'Income was $9.4 milion compared to the prior year of $2.7 milion.'\u001b[0m\u001b[1;33m)\u001b[0m\u001b[1;33m\u001b[0m\u001b[1;33m\u001b[0m\u001b[0m\n",
      "\u001b[1;32m~\\anaconda3\\lib\\site-packages\\spacy\\__init__.py\u001b[0m in \u001b[0;36mload\u001b[1;34m(name, vocab, disable, enable, exclude, config)\u001b[0m\n\u001b[0;32m     52\u001b[0m     \u001b[0mRETURNS\u001b[0m \u001b[1;33m(\u001b[0m\u001b[0mLanguage\u001b[0m\u001b[1;33m)\u001b[0m\u001b[1;33m:\u001b[0m \u001b[0mThe\u001b[0m \u001b[0mloaded\u001b[0m \u001b[0mnlp\u001b[0m \u001b[0mobject\u001b[0m\u001b[1;33m.\u001b[0m\u001b[1;33m\u001b[0m\u001b[1;33m\u001b[0m\u001b[0m\n\u001b[0;32m     53\u001b[0m     \"\"\"\n\u001b[1;32m---> 54\u001b[1;33m     return util.load_model(\n\u001b[0m\u001b[0;32m     55\u001b[0m         \u001b[0mname\u001b[0m\u001b[1;33m,\u001b[0m\u001b[1;33m\u001b[0m\u001b[1;33m\u001b[0m\u001b[0m\n\u001b[0;32m     56\u001b[0m         \u001b[0mvocab\u001b[0m\u001b[1;33m=\u001b[0m\u001b[0mvocab\u001b[0m\u001b[1;33m,\u001b[0m\u001b[1;33m\u001b[0m\u001b[1;33m\u001b[0m\u001b[0m\n",
      "\u001b[1;32m~\\anaconda3\\lib\\site-packages\\spacy\\util.py\u001b[0m in \u001b[0;36mload_model\u001b[1;34m(name, vocab, disable, enable, exclude, config)\u001b[0m\n\u001b[0;32m    437\u001b[0m     \u001b[1;32mif\u001b[0m \u001b[0mname\u001b[0m \u001b[1;32min\u001b[0m \u001b[0mOLD_MODEL_SHORTCUTS\u001b[0m\u001b[1;33m:\u001b[0m\u001b[1;33m\u001b[0m\u001b[1;33m\u001b[0m\u001b[0m\n\u001b[0;32m    438\u001b[0m         \u001b[1;32mraise\u001b[0m \u001b[0mIOError\u001b[0m\u001b[1;33m(\u001b[0m\u001b[0mErrors\u001b[0m\u001b[1;33m.\u001b[0m\u001b[0mE941\u001b[0m\u001b[1;33m.\u001b[0m\u001b[0mformat\u001b[0m\u001b[1;33m(\u001b[0m\u001b[0mname\u001b[0m\u001b[1;33m=\u001b[0m\u001b[0mname\u001b[0m\u001b[1;33m,\u001b[0m \u001b[0mfull\u001b[0m\u001b[1;33m=\u001b[0m\u001b[0mOLD_MODEL_SHORTCUTS\u001b[0m\u001b[1;33m[\u001b[0m\u001b[0mname\u001b[0m\u001b[1;33m]\u001b[0m\u001b[1;33m)\u001b[0m\u001b[1;33m)\u001b[0m  \u001b[1;31m# type: ignore[index]\u001b[0m\u001b[1;33m\u001b[0m\u001b[1;33m\u001b[0m\u001b[0m\n\u001b[1;32m--> 439\u001b[1;33m     \u001b[1;32mraise\u001b[0m \u001b[0mIOError\u001b[0m\u001b[1;33m(\u001b[0m\u001b[0mErrors\u001b[0m\u001b[1;33m.\u001b[0m\u001b[0mE050\u001b[0m\u001b[1;33m.\u001b[0m\u001b[0mformat\u001b[0m\u001b[1;33m(\u001b[0m\u001b[0mname\u001b[0m\u001b[1;33m=\u001b[0m\u001b[0mname\u001b[0m\u001b[1;33m)\u001b[0m\u001b[1;33m)\u001b[0m\u001b[1;33m\u001b[0m\u001b[1;33m\u001b[0m\u001b[0m\n\u001b[0m\u001b[0;32m    440\u001b[0m \u001b[1;33m\u001b[0m\u001b[0m\n\u001b[0;32m    441\u001b[0m \u001b[1;33m\u001b[0m\u001b[0m\n",
      "\u001b[1;31mOSError\u001b[0m: [E050] Can't find model 'en_core_web_sm'. It doesn't seem to be a Python package or a valid path to a data directory."
     ]
    }
   ],
   "source": [
    "import spacy\n",
    "import contextualSpellCheck\n",
    "\n",
    "nlp = spacy.load('en_core_web_sm')\n",
    "contextualSpellCheck.add_to_pipe(nlp)\n",
    "doc = nlp('Income was $9.4 milion compared to the prior year of $2.7 milion.')\n",
    "\n",
    "print(doc._.performed_spellCheck) #Should be True\n",
    "print(doc._.outcome_spellCheck) #Income was $9.4 million compared to the prior year of $2.7 million."
   ]
  }
 ],
 "metadata": {
  "colab": {
   "provenance": []
  },
  "kernelspec": {
   "display_name": "Python 3",
   "language": "python",
   "name": "python3"
  },
  "language_info": {
   "codemirror_mode": {
    "name": "ipython",
    "version": 3
   },
   "file_extension": ".py",
   "mimetype": "text/x-python",
   "name": "python",
   "nbconvert_exporter": "python",
   "pygments_lexer": "ipython3",
   "version": "3.8.8"
  }
 },
 "nbformat": 4,
 "nbformat_minor": 5
}
